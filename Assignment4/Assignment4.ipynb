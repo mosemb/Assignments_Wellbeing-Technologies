{
 "cells": [
  {
   "cell_type": "markdown",
   "id": "stupid-impact",
   "metadata": {},
   "source": [
    "# Assignment 4 WBT \n",
    "# Name: Moses Mbabaali \n",
    "# Matricola: 4846019"
   ]
  },
  {
   "cell_type": "code",
   "execution_count": 104,
   "id": "large-happiness",
   "metadata": {},
   "outputs": [],
   "source": [
    "from keras.layers import Dense\n",
    "from keras.models import Sequential\n",
    "from keras.optimizers import SGD, Adam, Adagrad, Adadelta, RMSprop\n",
    "from keras.callbacks import EarlyStopping\n",
    "from sklearn.model_selection import train_test_split\n",
    "import matplotlib.pyplot as plt\n",
    "import numpy as np"
   ]
  },
  {
   "cell_type": "code",
   "execution_count": 105,
   "id": "afraid-parallel",
   "metadata": {},
   "outputs": [],
   "source": [
    "# Get the data\n",
    "with open(\"semeion.data\") as textFile:\n",
    "    data = [line.split() for line in textFile]"
   ]
  },
  {
   "cell_type": "code",
   "execution_count": 21,
   "id": "subtle-turtle",
   "metadata": {},
   "outputs": [],
   "source": [
    "# Just reconverted the original data into this way it was way easier operating in this mode \n",
    "data = np.asarray(data)\n",
    "data = data.astype(float)"
   ]
  },
  {
   "cell_type": "code",
   "execution_count": 22,
   "id": "american-movement",
   "metadata": {},
   "outputs": [
    {
     "name": "stdout",
     "output_type": "stream",
     "text": [
      "(1593, 256)\n"
     ]
    },
    {
     "data": {
      "text/plain": [
       "array([[0., 0., 0., ..., 0., 0., 0.],\n",
       "       [0., 0., 0., ..., 0., 0., 0.],\n",
       "       [0., 0., 0., ..., 0., 0., 0.],\n",
       "       ...,\n",
       "       [0., 0., 1., ..., 0., 0., 0.],\n",
       "       [0., 1., 1., ..., 0., 0., 0.],\n",
       "       [0., 0., 0., ..., 0., 0., 0.]])"
      ]
     },
     "execution_count": 22,
     "metadata": {},
     "output_type": "execute_result"
    }
   ],
   "source": [
    "# The x values \n",
    "X = data[:,:-10]\n",
    "print(X.shape)\n",
    "X"
   ]
  },
  {
   "cell_type": "code",
   "execution_count": 23,
   "id": "fuzzy-circle",
   "metadata": {},
   "outputs": [
    {
     "name": "stdout",
     "output_type": "stream",
     "text": [
      "(1593, 10)\n"
     ]
    },
    {
     "data": {
      "text/plain": [
       "array([[1., 0., 0., ..., 0., 0., 0.],\n",
       "       [1., 0., 0., ..., 0., 0., 0.],\n",
       "       [1., 0., 0., ..., 0., 0., 0.],\n",
       "       ...,\n",
       "       [0., 0., 0., ..., 0., 0., 1.],\n",
       "       [0., 0., 0., ..., 0., 0., 1.],\n",
       "       [0., 0., 0., ..., 0., 0., 1.]])"
      ]
     },
     "execution_count": 23,
     "metadata": {},
     "output_type": "execute_result"
    }
   ],
   "source": [
    "# The y values \n",
    "y = data[:,-10:]\n",
    "print(y.shape)\n",
    "y"
   ]
  },
  {
   "cell_type": "code",
   "execution_count": 24,
   "id": "tested-saudi",
   "metadata": {},
   "outputs": [
    {
     "data": {
      "text/plain": [
       "array([[0., 0., 0., 0., 0., 0., 1., 1., 1., 1., 1., 1., 1., 1., 0., 0.],\n",
       "       [0., 0., 0., 0., 0., 1., 1., 1., 1., 1., 1., 0., 1., 1., 0., 0.],\n",
       "       [0., 0., 0., 0., 1., 1., 1., 1., 1., 1., 0., 0., 0., 1., 1., 0.],\n",
       "       [0., 0., 0., 1., 1., 1., 1., 1., 0., 0., 0., 0., 1., 1., 1., 1.],\n",
       "       [0., 0., 0., 1., 1., 1., 1., 0., 1., 1., 1., 1., 1., 1., 1., 0.],\n",
       "       [0., 0., 0., 1., 1., 1., 0., 1., 1., 1., 1., 1., 0., 1., 1., 0.],\n",
       "       [0., 0., 1., 1., 1., 1., 1., 1., 1., 1., 0., 0., 0., 1., 1., 0.],\n",
       "       [0., 0., 1., 1., 1., 1., 1., 1., 0., 0., 0., 0., 1., 1., 0., 0.],\n",
       "       [0., 1., 1., 1., 1., 1., 1., 0., 0., 0., 0., 0., 1., 1., 0., 0.],\n",
       "       [0., 1., 1., 1., 1., 0., 0., 0., 0., 0., 0., 0., 1., 1., 0., 0.],\n",
       "       [0., 1., 1., 1., 0., 0., 0., 0., 0., 0., 1., 1., 1., 0., 0., 0.],\n",
       "       [1., 1., 1., 0., 0., 0., 0., 0., 0., 0., 1., 1., 0., 0., 0., 0.],\n",
       "       [1., 1., 1., 1., 0., 0., 0., 0., 1., 1., 1., 1., 0., 0., 0., 0.],\n",
       "       [1., 1., 1., 1., 0., 0., 0., 1., 1., 1., 0., 0., 0., 0., 0., 0.],\n",
       "       [1., 0., 1., 1., 1., 1., 1., 1., 1., 0., 0., 0., 0., 0., 0., 0.],\n",
       "       [0., 0., 0., 1., 1., 1., 1., 0., 0., 0., 0., 0., 0., 0., 0., 0.]])"
      ]
     },
     "execution_count": 24,
     "metadata": {},
     "output_type": "execute_result"
    }
   ],
   "source": [
    "# Matrix as a 16 by 16 for an individual element\n",
    "X[0].reshape((16,16))"
   ]
  },
  {
   "cell_type": "code",
   "execution_count": 25,
   "id": "canadian-december",
   "metadata": {},
   "outputs": [
    {
     "data": {
      "text/plain": [
       "<matplotlib.image.AxesImage at 0x7f918c4526a0>"
      ]
     },
     "execution_count": 25,
     "metadata": {},
     "output_type": "execute_result"
    },
    {
     "data": {
      "image/png": "[encoded data removed]",
      "text/plain": [
       "<Figure size 432x288 with 1 Axes>"
      ]
     },
     "metadata": {
      "needs_background": "light"
     },
     "output_type": "display_data"
    }
   ],
   "source": [
    "# Visualizing the 16x16 matrix as image\n",
    "plt.imshow(X[7].reshape((16,16)))"
   ]
  },
  {
   "cell_type": "code",
   "execution_count": 26,
   "id": "filled-dragon",
   "metadata": {},
   "outputs": [],
   "source": [
    "# Data splits\n",
    "X_train, X_test, y_train, y_test = train_test_split(X, y, test_size = 0.3, random_state=2)"
   ]
  },
  {
   "cell_type": "code",
   "execution_count": 28,
   "id": "typical-therapist",
   "metadata": {},
   "outputs": [
    {
     "name": "stdout",
     "output_type": "stream",
     "text": [
      "Epoch 1/60\n",
      "25/25 - 1s - loss: 2.2686 - accuracy: 0.1564 - val_loss: 2.1366 - val_accuracy: 0.2179\n",
      "Epoch 2/60\n",
      "25/25 - 0s - loss: 2.0347 - accuracy: 0.3269 - val_loss: 1.9339 - val_accuracy: 0.2657\n",
      "Epoch 3/60\n",
      "25/25 - 0s - loss: 1.8033 - accuracy: 0.5487 - val_loss: 1.6805 - val_accuracy: 0.5433\n",
      "Epoch 4/60\n",
      "25/25 - 0s - loss: 1.5516 - accuracy: 0.6577 - val_loss: 1.4489 - val_accuracy: 0.6627\n",
      "Epoch 5/60\n",
      "25/25 - 0s - loss: 1.3371 - accuracy: 0.7551 - val_loss: 1.2343 - val_accuracy: 0.7403\n",
      "Epoch 6/60\n",
      "25/25 - 0s - loss: 1.1500 - accuracy: 0.8115 - val_loss: 1.0281 - val_accuracy: 0.8358\n",
      "Epoch 7/60\n",
      "25/25 - 0s - loss: 1.0003 - accuracy: 0.8397 - val_loss: 0.8879 - val_accuracy: 0.8716\n",
      "Epoch 8/60\n",
      "25/25 - 0s - loss: 0.8824 - accuracy: 0.8321 - val_loss: 0.7843 - val_accuracy: 0.8836\n",
      "Epoch 9/60\n",
      "25/25 - 0s - loss: 0.7881 - accuracy: 0.8500 - val_loss: 0.7170 - val_accuracy: 0.8657\n",
      "Epoch 10/60\n",
      "25/25 - 0s - loss: 0.7106 - accuracy: 0.8705 - val_loss: 0.6457 - val_accuracy: 0.8896\n",
      "Epoch 11/60\n",
      "25/25 - 0s - loss: 0.6484 - accuracy: 0.8756 - val_loss: 0.5840 - val_accuracy: 0.9015\n",
      "Epoch 12/60\n",
      "25/25 - 0s - loss: 0.5954 - accuracy: 0.8821 - val_loss: 0.5328 - val_accuracy: 0.9164\n",
      "Epoch 13/60\n",
      "25/25 - 0s - loss: 0.5523 - accuracy: 0.8923 - val_loss: 0.5055 - val_accuracy: 0.9045\n",
      "Epoch 14/60\n",
      "25/25 - 0s - loss: 0.5124 - accuracy: 0.8962 - val_loss: 0.4607 - val_accuracy: 0.9254\n",
      "Epoch 15/60\n",
      "25/25 - 0s - loss: 0.4785 - accuracy: 0.8962 - val_loss: 0.4430 - val_accuracy: 0.9224\n",
      "Epoch 16/60\n",
      "25/25 - 0s - loss: 0.4507 - accuracy: 0.9064 - val_loss: 0.4136 - val_accuracy: 0.9284\n",
      "Epoch 17/60\n",
      "25/25 - 0s - loss: 0.4253 - accuracy: 0.9128 - val_loss: 0.4013 - val_accuracy: 0.9224\n",
      "Epoch 18/60\n",
      "25/25 - 0s - loss: 0.3970 - accuracy: 0.9218 - val_loss: 0.3890 - val_accuracy: 0.9254\n",
      "Epoch 19/60\n",
      "25/25 - 0s - loss: 0.3797 - accuracy: 0.9256 - val_loss: 0.3519 - val_accuracy: 0.9373\n",
      "Epoch 20/60\n",
      "25/25 - 0s - loss: 0.3586 - accuracy: 0.9256 - val_loss: 0.3388 - val_accuracy: 0.9373\n",
      "Epoch 21/60\n",
      "25/25 - 0s - loss: 0.3417 - accuracy: 0.9282 - val_loss: 0.3311 - val_accuracy: 0.9343\n",
      "Epoch 22/60\n",
      "25/25 - 0s - loss: 0.3239 - accuracy: 0.9282 - val_loss: 0.3176 - val_accuracy: 0.9373\n",
      "Epoch 23/60\n",
      "25/25 - 0s - loss: 0.3092 - accuracy: 0.9359 - val_loss: 0.3057 - val_accuracy: 0.9403\n",
      "Epoch 24/60\n",
      "25/25 - 0s - loss: 0.2943 - accuracy: 0.9397 - val_loss: 0.2955 - val_accuracy: 0.9403\n",
      "Epoch 25/60\n",
      "25/25 - 0s - loss: 0.2820 - accuracy: 0.9487 - val_loss: 0.2820 - val_accuracy: 0.9463\n",
      "Epoch 26/60\n",
      "25/25 - 0s - loss: 0.2690 - accuracy: 0.9487 - val_loss: 0.2775 - val_accuracy: 0.9463\n",
      "Epoch 27/60\n",
      "25/25 - 0s - loss: 0.2578 - accuracy: 0.9564 - val_loss: 0.2794 - val_accuracy: 0.9373\n",
      "Epoch 28/60\n",
      "25/25 - 0s - loss: 0.2493 - accuracy: 0.9615 - val_loss: 0.2618 - val_accuracy: 0.9522\n",
      "Epoch 29/60\n",
      "25/25 - 0s - loss: 0.2388 - accuracy: 0.9564 - val_loss: 0.2538 - val_accuracy: 0.9522\n",
      "Epoch 30/60\n",
      "25/25 - 0s - loss: 0.2299 - accuracy: 0.9641 - val_loss: 0.2502 - val_accuracy: 0.9522\n",
      "Epoch 31/60\n",
      "25/25 - 0s - loss: 0.2218 - accuracy: 0.9679 - val_loss: 0.2431 - val_accuracy: 0.9493\n",
      "Epoch 32/60\n",
      "25/25 - 0s - loss: 0.2146 - accuracy: 0.9667 - val_loss: 0.2379 - val_accuracy: 0.9522\n",
      "Epoch 33/60\n",
      "25/25 - 0s - loss: 0.2029 - accuracy: 0.9654 - val_loss: 0.2444 - val_accuracy: 0.9343\n",
      "Epoch 34/60\n",
      "25/25 - 0s - loss: 0.1986 - accuracy: 0.9679 - val_loss: 0.2327 - val_accuracy: 0.9552\n",
      "Epoch 35/60\n",
      "25/25 - 0s - loss: 0.1914 - accuracy: 0.9654 - val_loss: 0.2277 - val_accuracy: 0.9493\n",
      "Epoch 36/60\n",
      "25/25 - 0s - loss: 0.1851 - accuracy: 0.9756 - val_loss: 0.2229 - val_accuracy: 0.9552\n",
      "Epoch 37/60\n",
      "25/25 - 0s - loss: 0.1791 - accuracy: 0.9756 - val_loss: 0.2179 - val_accuracy: 0.9552\n",
      "Epoch 38/60\n",
      "25/25 - 0s - loss: 0.1747 - accuracy: 0.9808 - val_loss: 0.2195 - val_accuracy: 0.9552\n",
      "Epoch 39/60\n",
      "25/25 - 0s - loss: 0.1687 - accuracy: 0.9782 - val_loss: 0.2126 - val_accuracy: 0.9552\n",
      "Epoch 40/60\n",
      "25/25 - 0s - loss: 0.1627 - accuracy: 0.9795 - val_loss: 0.2120 - val_accuracy: 0.9493\n",
      "Epoch 41/60\n",
      "25/25 - 0s - loss: 0.1571 - accuracy: 0.9833 - val_loss: 0.2102 - val_accuracy: 0.9493\n",
      "Epoch 42/60\n",
      "25/25 - 0s - loss: 0.1539 - accuracy: 0.9833 - val_loss: 0.2021 - val_accuracy: 0.9552\n",
      "Epoch 43/60\n",
      "25/25 - 0s - loss: 0.1479 - accuracy: 0.9872 - val_loss: 0.2010 - val_accuracy: 0.9582\n",
      "Epoch 44/60\n",
      "25/25 - 0s - loss: 0.1441 - accuracy: 0.9872 - val_loss: 0.1998 - val_accuracy: 0.9552\n",
      "Epoch 45/60\n",
      "25/25 - 0s - loss: 0.1390 - accuracy: 0.9885 - val_loss: 0.2000 - val_accuracy: 0.9493\n",
      "Epoch 46/60\n",
      "25/25 - 0s - loss: 0.1350 - accuracy: 0.9872 - val_loss: 0.1967 - val_accuracy: 0.9552\n",
      "Epoch 47/60\n",
      "25/25 - 0s - loss: 0.1317 - accuracy: 0.9923 - val_loss: 0.1910 - val_accuracy: 0.9552\n",
      "Epoch 48/60\n",
      "25/25 - 0s - loss: 0.1283 - accuracy: 0.9910 - val_loss: 0.1899 - val_accuracy: 0.9582\n",
      "Epoch 49/60\n",
      "25/25 - 0s - loss: 0.1238 - accuracy: 0.9910 - val_loss: 0.1893 - val_accuracy: 0.9552\n",
      "Epoch 50/60\n",
      "25/25 - 0s - loss: 0.1209 - accuracy: 0.9885 - val_loss: 0.1911 - val_accuracy: 0.9552\n",
      "Epoch 51/60\n",
      "25/25 - 0s - loss: 0.1179 - accuracy: 0.9987 - val_loss: 0.1857 - val_accuracy: 0.9582\n",
      "Epoch 52/60\n",
      "25/25 - 0s - loss: 0.1143 - accuracy: 0.9962 - val_loss: 0.1929 - val_accuracy: 0.9463\n",
      "Epoch 53/60\n",
      "25/25 - 0s - loss: 0.1121 - accuracy: 0.9936 - val_loss: 0.1841 - val_accuracy: 0.9582\n",
      "Epoch 54/60\n",
      "25/25 - 0s - loss: 0.1086 - accuracy: 0.9962 - val_loss: 0.1832 - val_accuracy: 0.9552\n",
      "Epoch 55/60\n",
      "25/25 - 0s - loss: 0.1059 - accuracy: 0.9962 - val_loss: 0.1871 - val_accuracy: 0.9493\n",
      "Epoch 56/60\n",
      "25/25 - 0s - loss: 0.1037 - accuracy: 0.9987 - val_loss: 0.1827 - val_accuracy: 0.9522\n",
      "Epoch 57/60\n",
      "25/25 - 0s - loss: 0.1009 - accuracy: 0.9949 - val_loss: 0.1785 - val_accuracy: 0.9552\n",
      "Epoch 58/60\n",
      "25/25 - 0s - loss: 0.0980 - accuracy: 0.9962 - val_loss: 0.1769 - val_accuracy: 0.9552\n",
      "Epoch 59/60\n",
      "25/25 - 0s - loss: 0.0952 - accuracy: 0.9974 - val_loss: 0.1775 - val_accuracy: 0.9552\n",
      "Epoch 60/60\n",
      "25/25 - 0s - loss: 0.0932 - accuracy: 0.9962 - val_loss: 0.1745 - val_accuracy: 0.9582\n",
      "15/15 [==============================] - 0s 2ms/step - loss: 0.3067 - accuracy: 0.9038\n",
      "Test accuracy: 0.9037656784057617\n",
      "Test loss: 0.3067110478878021\n"
     ]
    }
   ],
   "source": [
    "# Simple sequential model\n",
    "model = Sequential()\n",
    "model.add(Dense(100, activation='sigmoid', input_shape = (X.shape[1],), use_bias=True, bias_initializer='ones'))\n",
    "model.add(Dense(y.shape[1], activation='sigmoid', use_bias=True, bias_initializer='ones'))\n",
    "my_optimizer = SGD(lr=0.1)\n",
    "model.compile(optimizer=my_optimizer, loss='categorical_crossentropy', metrics=['accuracy'])\n",
    "\n",
    "early_stopping_monitor = EarlyStopping(patience=2)\n",
    "\n",
    "history = model.fit(X_train, y_train, validation_split=0.3, epochs=60, verbose=2, callbacks=[early_stopping_monitor])\n",
    "history\n",
    "\n",
    "score = model.evaluate(X_test, y_test)\n",
    "print('Test accuracy:', score[1])\n",
    "print('Test loss:', score[0])\n",
    "\n",
    "y_pred = model.predict(X_test)"
   ]
  },
  {
   "cell_type": "code",
   "execution_count": 44,
   "id": "textile-sucking",
   "metadata": {},
   "outputs": [
    {
     "data": {
      "image/png": "[encoded data removed]",
      "text/plain": [
       "<Figure size 432x288 with 1 Axes>"
      ]
     },
     "metadata": {
      "needs_background": "light"
     },
     "output_type": "display_data"
    },
    {
     "data": {
      "image/png": "[encoded data removed]",
      "text/plain": [
       "<Figure size 432x288 with 1 Axes>"
      ]
     },
     "metadata": {
      "needs_background": "light"
     },
     "output_type": "display_data"
    }
   ],
   "source": [
    "def plot_history(history):\n",
    "    # Plot training & validation accuracy values\n",
    "    plt.plot(history.history['accuracy'])\n",
    "    plt.plot(history.history['val_accuracy'])\n",
    "    plt.title('Model accuracy')\n",
    "    plt.ylabel('Accuracy')\n",
    "    plt.xlabel('Epoch')\n",
    "    plt.legend(['Train', 'Val'], loc='upper left')\n",
    "    plt.show()\n",
    "\n",
    "    # Plot training & validation loss values\n",
    "    plt.plot(history.history['loss'])\n",
    "    plt.plot(history.history['val_loss'])\n",
    "    plt.title('Model loss')\n",
    "    plt.ylabel('Loss')\n",
    "    plt.xlabel('Epoch')\n",
    "    plt.legend(['Train', 'Val'], loc='upper left')\n",
    "    plt.show()\n",
    "    \n",
    "plot_history(history)"
   ]
  },
  {
   "cell_type": "code",
   "execution_count": 39,
   "id": "ready-victoria",
   "metadata": {},
   "outputs": [
    {
     "name": "stdout",
     "output_type": "stream",
     "text": [
      "Epoch 1/60\n",
      "25/25 - 1s - loss: 2.6070 - accuracy: 0.0859 - val_loss: 2.2929 - val_accuracy: 0.1045\n",
      "Epoch 2/60\n",
      "25/25 - 0s - loss: 2.2795 - accuracy: 0.1333 - val_loss: 2.2896 - val_accuracy: 0.1433\n",
      "Epoch 3/60\n",
      "25/25 - 0s - loss: 2.2178 - accuracy: 0.1821 - val_loss: 2.1772 - val_accuracy: 0.1463\n",
      "Epoch 4/60\n",
      "25/25 - 0s - loss: 2.1171 - accuracy: 0.2167 - val_loss: 1.9956 - val_accuracy: 0.2537\n",
      "Epoch 5/60\n",
      "25/25 - 0s - loss: 1.9705 - accuracy: 0.2821 - val_loss: 2.0273 - val_accuracy: 0.3075\n",
      "Epoch 6/60\n",
      "25/25 - 0s - loss: 1.8069 - accuracy: 0.3744 - val_loss: 1.8319 - val_accuracy: 0.3194\n",
      "Epoch 7/60\n",
      "25/25 - 0s - loss: 1.5610 - accuracy: 0.4295 - val_loss: 2.1658 - val_accuracy: 0.3284\n",
      "Epoch 8/60\n",
      "25/25 - 0s - loss: 1.4874 - accuracy: 0.4885 - val_loss: 1.2193 - val_accuracy: 0.6149\n",
      "Epoch 9/60\n",
      "25/25 - 0s - loss: 1.0080 - accuracy: 0.6744 - val_loss: 1.6981 - val_accuracy: 0.4776\n",
      "Epoch 10/60\n",
      "25/25 - 0s - loss: 0.7708 - accuracy: 0.7308 - val_loss: 0.6639 - val_accuracy: 0.7373\n",
      "Epoch 11/60\n",
      "25/25 - 0s - loss: 0.5706 - accuracy: 0.8000 - val_loss: 0.4117 - val_accuracy: 0.8776\n",
      "Epoch 12/60\n",
      "25/25 - 0s - loss: 0.3854 - accuracy: 0.8808 - val_loss: 0.3894 - val_accuracy: 0.8806\n",
      "Epoch 13/60\n",
      "25/25 - 0s - loss: 0.4176 - accuracy: 0.8538 - val_loss: 0.6479 - val_accuracy: 0.7851\n",
      "Epoch 14/60\n",
      "25/25 - 0s - loss: 0.2044 - accuracy: 0.9346 - val_loss: 0.2749 - val_accuracy: 0.9164\n",
      "Epoch 15/60\n",
      "25/25 - 0s - loss: 0.1768 - accuracy: 0.9372 - val_loss: 0.2829 - val_accuracy: 0.9015\n",
      "Epoch 16/60\n",
      "25/25 - 0s - loss: 0.0915 - accuracy: 0.9692 - val_loss: 0.3425 - val_accuracy: 0.8955\n",
      "15/15 [==============================] - 0s 2ms/step - loss: 0.5536 - accuracy: 0.8285\n",
      "Test accuracy: 0.8284518718719482\n",
      "Test loss: 0.5536104440689087\n"
     ]
    }
   ],
   "source": [
    "#Layered sequential model\n",
    "model = Sequential()\n",
    "model.add(Dense(128, activation='relu', input_shape = (X.shape[1],), use_bias=True, bias_initializer='ones'))\n",
    "model.add(Dense(64, activation='relu', use_bias=True, bias_initializer='ones'))\n",
    "model.add(Dense(32, activation='relu', use_bias=True, bias_initializer='ones'))\n",
    "model.add(Dense(16, activation='relu', use_bias=True, bias_initializer='ones'))        \n",
    "model.add(Dense(y.shape[1], activation='sigmoid', use_bias=True, bias_initializer='ones'))\n",
    "\n",
    "my_optimizer = SGD(lr=0.1)\n",
    "model.compile(optimizer=my_optimizer, loss='categorical_crossentropy', metrics=['accuracy'])\n",
    "early_stopping_monitor = EarlyStopping(patience=2)\n",
    "\n",
    "history = model.fit(X_train, y_train, validation_split=0.3, epochs=60, verbose=2, callbacks=[early_stopping_monitor])\n",
    "history\n",
    "\n",
    "score = model.evaluate(X_test, y_test)\n",
    "print('Test accuracy:', score[1])\n",
    "print('Test loss:', score[0])\n",
    "\n",
    "y_pred = model.predict(X_test)"
   ]
  },
  {
   "cell_type": "code",
   "execution_count": 45,
   "id": "collected-collectible",
   "metadata": {},
   "outputs": [
    {
     "data": {
      "image/png": "[encoded data removed]",
      "text/plain": [
       "<Figure size 432x288 with 1 Axes>"
      ]
     },
     "metadata": {
      "needs_background": "light"
     },
     "output_type": "display_data"
    },
    {
     "data": {
      "image/png": "[encoded data removed]",
      "text/plain": [
       "<Figure size 432x288 with 1 Axes>"
      ]
     },
     "metadata": {
      "needs_background": "light"
     },
     "output_type": "display_data"
    }
   ],
   "source": [
    "plot_history(history)"
   ]
  },
  {
   "cell_type": "code",
   "execution_count": 46,
   "id": "neural-annex",
   "metadata": {},
   "outputs": [],
   "source": [
    "from keras.layers import Dense, Dropout, Flatten\n",
    "from keras.layers.advanced_activations import LeakyReLU\n",
    "from keras.layers import Conv2D, MaxPooling2D"
   ]
  },
  {
   "cell_type": "code",
   "execution_count": 87,
   "id": "blocked-brunswick",
   "metadata": {},
   "outputs": [],
   "source": [
    "train_X, test_X, train_y, test_y = train_test_split(np.array(X).reshape((1593,16,16,-1)),\\\n",
    "                                                    np.array(y).reshape((1593,10)) ,test_size = 0.3, random_state=555,\\\n",
    "                                                   stratify=np.array(y).reshape((1593,10)))"
   ]
  },
  {
   "cell_type": "code",
   "execution_count": 99,
   "id": "emotional-proxy",
   "metadata": {},
   "outputs": [
    {
     "name": "stdout",
     "output_type": "stream",
     "text": [
      "Model: \"sequential_36\"\n",
      "_________________________________________________________________\n",
      "Layer (type)                 Output Shape              Param #   \n",
      "=================================================================\n",
      "conv2d_31 (Conv2D)           (None, 16, 16, 16)        160       \n",
      "_________________________________________________________________\n",
      "max_pooling2d_26 (MaxPooling (None, 8, 8, 16)          0         \n",
      "_________________________________________________________________\n",
      "conv2d_32 (Conv2D)           (None, 8, 8, 32)          4640      \n",
      "_________________________________________________________________\n",
      "max_pooling2d_27 (MaxPooling (None, 4, 4, 32)          0         \n",
      "_________________________________________________________________\n",
      "flatten_16 (Flatten)         (None, 512)               0         \n",
      "_________________________________________________________________\n",
      "dense_49 (Dense)             (None, 256)               131328    \n",
      "_________________________________________________________________\n",
      "dropout_13 (Dropout)         (None, 256)               0         \n",
      "_________________________________________________________________\n",
      "dense_50 (Dense)             (None, 10)                2570      \n",
      "=================================================================\n",
      "Total params: 138,698\n",
      "Trainable params: 138,698\n",
      "Non-trainable params: 0\n",
      "_________________________________________________________________\n"
     ]
    }
   ],
   "source": [
    "#CNN\n",
    "model = Sequential()\n",
    "model.add(Conv2D(16, input_shape=(16, 16, 1),kernel_size=(3, 3), padding='same', activation='relu'))\n",
    "model.add(MaxPooling2D(pool_size=(2, 2)))\n",
    "model.add(Conv2D(32, kernel_size=(3, 3), activation='relu', padding='same'))\n",
    "model.add(MaxPooling2D(pool_size=(2, 2)))\n",
    "model.add(Flatten())\n",
    "model.add(Dense(256, activation='relu' ))\n",
    "model.add(Dropout(0.25))\n",
    "model.add(Dense(10, activation='softmax'))\n",
    "model.compile(loss='categorical_crossentropy', optimizer='adam', metrics=['accuracy']) #Nadam is a more stable optimizer\n",
    "model.summary()"
   ]
  },
  {
   "cell_type": "code",
   "execution_count": 100,
   "id": "laden-craft",
   "metadata": {},
   "outputs": [
    {
     "name": "stdout",
     "output_type": "stream",
     "text": [
      "Epoch 1/20\n",
      "7/7 [==============================] - 1s 66ms/step - loss: 2.2626 - accuracy: 0.1838 - val_loss: 2.0367 - val_accuracy: 0.4149\n",
      "Epoch 2/20\n",
      "7/7 [==============================] - 0s 35ms/step - loss: 1.9494 - accuracy: 0.4725 - val_loss: 1.6347 - val_accuracy: 0.7075\n",
      "Epoch 3/20\n",
      "7/7 [==============================] - 0s 35ms/step - loss: 1.5219 - accuracy: 0.6365 - val_loss: 1.1555 - val_accuracy: 0.7045\n",
      "Epoch 4/20\n",
      "7/7 [==============================] - 0s 35ms/step - loss: 1.0228 - accuracy: 0.7392 - val_loss: 0.8046 - val_accuracy: 0.7910\n",
      "Epoch 5/20\n",
      "7/7 [==============================] - 0s 34ms/step - loss: 0.7501 - accuracy: 0.7864 - val_loss: 0.6083 - val_accuracy: 0.8209\n",
      "Epoch 6/20\n",
      "7/7 [==============================] - 0s 36ms/step - loss: 0.5530 - accuracy: 0.8220 - val_loss: 0.4917 - val_accuracy: 0.8299\n",
      "Epoch 7/20\n",
      "7/7 [==============================] - 0s 36ms/step - loss: 0.4161 - accuracy: 0.8721 - val_loss: 0.3626 - val_accuracy: 0.9015\n",
      "Epoch 8/20\n",
      "7/7 [==============================] - 0s 34ms/step - loss: 0.3396 - accuracy: 0.8869 - val_loss: 0.3294 - val_accuracy: 0.9104\n",
      "Epoch 9/20\n",
      "7/7 [==============================] - 0s 35ms/step - loss: 0.2800 - accuracy: 0.9074 - val_loss: 0.2781 - val_accuracy: 0.9164\n",
      "Epoch 10/20\n",
      "7/7 [==============================] - 0s 35ms/step - loss: 0.2434 - accuracy: 0.9343 - val_loss: 0.2783 - val_accuracy: 0.9134\n",
      "Epoch 11/20\n",
      "7/7 [==============================] - 0s 36ms/step - loss: 0.2115 - accuracy: 0.9453 - val_loss: 0.2590 - val_accuracy: 0.9075\n",
      "Epoch 12/20\n",
      "7/7 [==============================] - 0s 35ms/step - loss: 0.1938 - accuracy: 0.9311 - val_loss: 0.2422 - val_accuracy: 0.9254\n",
      "Epoch 13/20\n",
      "7/7 [==============================] - 0s 35ms/step - loss: 0.1710 - accuracy: 0.9443 - val_loss: 0.2276 - val_accuracy: 0.9313\n",
      "Epoch 14/20\n",
      "7/7 [==============================] - 0s 36ms/step - loss: 0.1408 - accuracy: 0.9547 - val_loss: 0.2306 - val_accuracy: 0.9224\n",
      "Epoch 15/20\n",
      "7/7 [==============================] - 0s 36ms/step - loss: 0.1435 - accuracy: 0.9498 - val_loss: 0.2153 - val_accuracy: 0.9373\n",
      "Epoch 16/20\n",
      "7/7 [==============================] - 0s 36ms/step - loss: 0.1188 - accuracy: 0.9635 - val_loss: 0.2057 - val_accuracy: 0.9313\n",
      "Epoch 17/20\n",
      "7/7 [==============================] - 0s 36ms/step - loss: 0.1035 - accuracy: 0.9694 - val_loss: 0.2047 - val_accuracy: 0.9373\n",
      "Epoch 18/20\n",
      "7/7 [==============================] - 0s 36ms/step - loss: 0.0959 - accuracy: 0.9707 - val_loss: 0.2083 - val_accuracy: 0.9313\n",
      "Epoch 19/20\n",
      "7/7 [==============================] - 0s 52ms/step - loss: 0.0725 - accuracy: 0.9858 - val_loss: 0.1967 - val_accuracy: 0.9433\n",
      "Epoch 20/20\n",
      "7/7 [==============================] - 0s 48ms/step - loss: 0.0704 - accuracy: 0.9827 - val_loss: 0.1997 - val_accuracy: 0.9343\n"
     ]
    }
   ],
   "source": [
    "#train_X, test_X, train_y, test_y\n",
    "history = model.fit(train_X, train_y, epochs=20, batch_size=128, validation_split=0.3, shuffle=False)"
   ]
  },
  {
   "cell_type": "code",
   "execution_count": 101,
   "id": "technological-technology",
   "metadata": {},
   "outputs": [
    {
     "name": "stdout",
     "output_type": "stream",
     "text": [
      "15/15 [==============================] - 0s 5ms/step - loss: 0.1605 - accuracy: 0.9561\n",
      "Test accuracy: 0.9560669660568237\n",
      "Test loss: 0.16051103174686432\n"
     ]
    }
   ],
   "source": [
    "score = model.evaluate(test_X, test_y)\n",
    "print('Test accuracy:', score[1])\n",
    "print('Test loss:', score[0]) "
   ]
  },
  {
   "cell_type": "code",
   "execution_count": 102,
   "id": "modern-surgery",
   "metadata": {},
   "outputs": [
    {
     "data": {
      "image/png": "[encoded data removed]",
      "text/plain": [
       "<Figure size 432x288 with 1 Axes>"
      ]
     },
     "metadata": {
      "needs_background": "light"
     },
     "output_type": "display_data"
    },
    {
     "data": {
      "image/png": "[encoded data removed]",
      "text/plain": [
       "<Figure size 432x288 with 1 Axes>"
      ]
     },
     "metadata": {
      "needs_background": "light"
     },
     "output_type": "display_data"
    }
   ],
   "source": [
    "plot_history(history)"
   ]
  },
  {
   "cell_type": "code",
   "execution_count": 103,
   "id": "cooperative-philip",
   "metadata": {},
   "outputs": [],
   "source": [
    "y_pred = model.predict(test_X)"
   ]
  },
  {
   "cell_type": "code",
   "execution_count": null,
   "id": "experimental-oliver",
   "metadata": {},
   "outputs": [],
   "source": []
  }
 ],
 "metadata": {
  "kernelspec": {
   "display_name": "Python 3",
   "language": "python",
   "name": "python3"
  },
  "language_info": {
   "codemirror_mode": {
    "name": "ipython",
    "version": 3
   },
   "file_extension": ".py",
   "mimetype": "text/x-python",
   "name": "python",
   "nbconvert_exporter": "python",
   "pygments_lexer": "ipython3",
   "version": "3.8.5"
  }
 },
 "nbformat": 4,
 "nbformat_minor": 5
}
