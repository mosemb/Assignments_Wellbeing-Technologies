{
 "cells": [
  {
   "cell_type": "markdown",
   "id": "contained-glance",
   "metadata": {},
   "source": [
    "# Assignment 4 WBT \n",
    "# Name: Moses Mbabaali \n",
    "# Matricola: 4846019"
   ]
  },
  {
   "cell_type": "code",
   "execution_count": 125,
   "id": "simplified-saver",
   "metadata": {},
   "outputs": [],
   "source": [
    "from keras.layers import Dense\n",
    "from keras.models import Sequential\n",
    "from keras.optimizers import SGD, Adam, Adagrad, Adadelta, RMSprop\n",
    "from keras.callbacks import EarlyStopping\n",
    "from sklearn.model_selection import train_test_split\n",
    "import matplotlib.pyplot as plt\n",
    "import numpy as np"
   ]
  },
  {
   "cell_type": "code",
   "execution_count": 126,
   "id": "processed-raise",
   "metadata": {},
   "outputs": [],
   "source": [
    "# Get the data\n",
    "with open(\"semeion.data\") as textFile:\n",
    "    data = [line.split() for line in textFile]"
   ]
  },
  {
   "cell_type": "code",
   "execution_count": 127,
   "id": "declared-complaint",
   "metadata": {},
   "outputs": [],
   "source": [
    "# Just reconverted the original data into this way it was way easier operating in this mode \n",
    "data = np.asarray(data)\n",
    "data = data.astype(float)"
   ]
  },
  {
   "cell_type": "code",
   "execution_count": 128,
   "id": "secondary-acceptance",
   "metadata": {},
   "outputs": [
    {
     "name": "stdout",
     "output_type": "stream",
     "text": [
      "(1593, 256)\n"
     ]
    },
    {
     "data": {
      "text/plain": [
       "array([[0., 0., 0., ..., 0., 0., 0.],\n",
       "       [0., 0., 0., ..., 0., 0., 0.],\n",
       "       [0., 0., 0., ..., 0., 0., 0.],\n",
       "       ...,\n",
       "       [0., 0., 1., ..., 0., 0., 0.],\n",
       "       [0., 1., 1., ..., 0., 0., 0.],\n",
       "       [0., 0., 0., ..., 0., 0., 0.]])"
      ]
     },
     "execution_count": 128,
     "metadata": {},
     "output_type": "execute_result"
    }
   ],
   "source": [
    "# The x values \n",
    "X = data[:,:-10]\n",
    "print(X.shape)\n",
    "X"
   ]
  },
  {
   "cell_type": "code",
   "execution_count": 129,
   "id": "intermediate-appraisal",
   "metadata": {},
   "outputs": [
    {
     "name": "stdout",
     "output_type": "stream",
     "text": [
      "(1593, 10)\n"
     ]
    },
    {
     "data": {
      "text/plain": [
       "array([[1., 0., 0., ..., 0., 0., 0.],\n",
       "       [1., 0., 0., ..., 0., 0., 0.],\n",
       "       [1., 0., 0., ..., 0., 0., 0.],\n",
       "       ...,\n",
       "       [0., 0., 0., ..., 0., 0., 1.],\n",
       "       [0., 0., 0., ..., 0., 0., 1.],\n",
       "       [0., 0., 0., ..., 0., 0., 1.]])"
      ]
     },
     "execution_count": 129,
     "metadata": {},
     "output_type": "execute_result"
    }
   ],
   "source": [
    "# The y values \n",
    "y = data[:,-10:]\n",
    "print(y.shape)\n",
    "y"
   ]
  },
  {
   "cell_type": "code",
   "execution_count": 130,
   "id": "hollow-protein",
   "metadata": {},
   "outputs": [
    {
     "data": {
      "text/plain": [
       "array([[0., 0., 0., 0., 0., 0., 1., 1., 1., 1., 1., 1., 1., 1., 0., 0.],\n",
       "       [0., 0., 0., 0., 0., 1., 1., 1., 1., 1., 1., 0., 1., 1., 0., 0.],\n",
       "       [0., 0., 0., 0., 1., 1., 1., 1., 1., 1., 0., 0., 0., 1., 1., 0.],\n",
       "       [0., 0., 0., 1., 1., 1., 1., 1., 0., 0., 0., 0., 1., 1., 1., 1.],\n",
       "       [0., 0., 0., 1., 1., 1., 1., 0., 1., 1., 1., 1., 1., 1., 1., 0.],\n",
       "       [0., 0., 0., 1., 1., 1., 0., 1., 1., 1., 1., 1., 0., 1., 1., 0.],\n",
       "       [0., 0., 1., 1., 1., 1., 1., 1., 1., 1., 0., 0., 0., 1., 1., 0.],\n",
       "       [0., 0., 1., 1., 1., 1., 1., 1., 0., 0., 0., 0., 1., 1., 0., 0.],\n",
       "       [0., 1., 1., 1., 1., 1., 1., 0., 0., 0., 0., 0., 1., 1., 0., 0.],\n",
       "       [0., 1., 1., 1., 1., 0., 0., 0., 0., 0., 0., 0., 1., 1., 0., 0.],\n",
       "       [0., 1., 1., 1., 0., 0., 0., 0., 0., 0., 1., 1., 1., 0., 0., 0.],\n",
       "       [1., 1., 1., 0., 0., 0., 0., 0., 0., 0., 1., 1., 0., 0., 0., 0.],\n",
       "       [1., 1., 1., 1., 0., 0., 0., 0., 1., 1., 1., 1., 0., 0., 0., 0.],\n",
       "       [1., 1., 1., 1., 0., 0., 0., 1., 1., 1., 0., 0., 0., 0., 0., 0.],\n",
       "       [1., 0., 1., 1., 1., 1., 1., 1., 1., 0., 0., 0., 0., 0., 0., 0.],\n",
       "       [0., 0., 0., 1., 1., 1., 1., 0., 0., 0., 0., 0., 0., 0., 0., 0.]])"
      ]
     },
     "execution_count": 130,
     "metadata": {},
     "output_type": "execute_result"
    }
   ],
   "source": [
    "# Matrix as a 16 by 16 for an individual element\n",
    "X[0].reshape((16,16))"
   ]
  },
  {
   "cell_type": "code",
   "execution_count": 131,
   "id": "vocal-contamination",
   "metadata": {},
   "outputs": [
    {
     "data": {
      "text/plain": [
       "<matplotlib.image.AxesImage at 0x7f918c096d90>"
      ]
     },
     "execution_count": 131,
     "metadata": {},
     "output_type": "execute_result"
    },
    {
     "data": {
      "image/png": "[encoded data removed]",
      "text/plain": [
       "<Figure size 432x288 with 1 Axes>"
      ]
     },
     "metadata": {
      "needs_background": "light"
     },
     "output_type": "display_data"
    }
   ],
   "source": [
    "# Visualizing the 16x16 matrix as image\n",
    "plt.imshow(X[7].reshape((16,16)))"
   ]
  },
  {
   "cell_type": "code",
   "execution_count": 132,
   "id": "attended-martial",
   "metadata": {},
   "outputs": [],
   "source": [
    "# Data splits\n",
    "X_train, X_test, y_train, y_test = train_test_split(X, y, test_size = 0.3, random_state=2)"
   ]
  },
  {
   "cell_type": "code",
   "execution_count": 133,
   "id": "sharp-jefferson",
   "metadata": {},
   "outputs": [
    {
     "name": "stdout",
     "output_type": "stream",
     "text": [
      "Epoch 1/60\n",
      "25/25 - 1s - loss: 2.3338 - accuracy: 0.1577 - val_loss: 2.2482 - val_accuracy: 0.0955\n",
      "Epoch 2/60\n",
      "25/25 - 0s - loss: 2.0627 - accuracy: 0.3026 - val_loss: 1.9171 - val_accuracy: 0.3970\n",
      "Epoch 3/60\n",
      "25/25 - 0s - loss: 1.8264 - accuracy: 0.5167 - val_loss: 1.6861 - val_accuracy: 0.5433\n",
      "Epoch 4/60\n",
      "25/25 - 0s - loss: 1.5914 - accuracy: 0.6641 - val_loss: 1.5234 - val_accuracy: 0.4179\n",
      "Epoch 5/60\n",
      "25/25 - 0s - loss: 1.3750 - accuracy: 0.7231 - val_loss: 1.2430 - val_accuracy: 0.7254\n",
      "Epoch 6/60\n",
      "25/25 - 0s - loss: 1.1800 - accuracy: 0.7846 - val_loss: 1.0888 - val_accuracy: 0.7612\n",
      "Epoch 7/60\n",
      "25/25 - 0s - loss: 1.0396 - accuracy: 0.8154 - val_loss: 0.9414 - val_accuracy: 0.8507\n",
      "Epoch 8/60\n",
      "25/25 - 0s - loss: 0.9175 - accuracy: 0.8462 - val_loss: 0.8518 - val_accuracy: 0.8299\n",
      "Epoch 9/60\n",
      "25/25 - 0s - loss: 0.8202 - accuracy: 0.8474 - val_loss: 0.7124 - val_accuracy: 0.8776\n",
      "Epoch 10/60\n",
      "25/25 - 0s - loss: 0.7373 - accuracy: 0.8551 - val_loss: 0.6410 - val_accuracy: 0.8985\n",
      "Epoch 11/60\n",
      "25/25 - 0s - loss: 0.6662 - accuracy: 0.8692 - val_loss: 0.5884 - val_accuracy: 0.8985\n",
      "Epoch 12/60\n",
      "25/25 - 0s - loss: 0.6119 - accuracy: 0.8782 - val_loss: 0.5450 - val_accuracy: 0.9164\n",
      "Epoch 13/60\n",
      "25/25 - 0s - loss: 0.5644 - accuracy: 0.8859 - val_loss: 0.4969 - val_accuracy: 0.9104\n",
      "Epoch 14/60\n",
      "25/25 - 0s - loss: 0.5241 - accuracy: 0.9013 - val_loss: 0.4640 - val_accuracy: 0.9164\n",
      "Epoch 15/60\n",
      "25/25 - 0s - loss: 0.4876 - accuracy: 0.9103 - val_loss: 0.4397 - val_accuracy: 0.9134\n",
      "Epoch 16/60\n",
      "25/25 - 0s - loss: 0.4587 - accuracy: 0.9115 - val_loss: 0.4046 - val_accuracy: 0.9224\n",
      "Epoch 17/60\n",
      "25/25 - 0s - loss: 0.4290 - accuracy: 0.9103 - val_loss: 0.3896 - val_accuracy: 0.9373\n",
      "Epoch 18/60\n",
      "25/25 - 0s - loss: 0.4059 - accuracy: 0.9128 - val_loss: 0.3652 - val_accuracy: 0.9403\n",
      "Epoch 19/60\n",
      "25/25 - 0s - loss: 0.3807 - accuracy: 0.9231 - val_loss: 0.3519 - val_accuracy: 0.9313\n",
      "Epoch 20/60\n",
      "25/25 - 0s - loss: 0.3624 - accuracy: 0.9295 - val_loss: 0.3374 - val_accuracy: 0.9463\n",
      "Epoch 21/60\n",
      "25/25 - 0s - loss: 0.3435 - accuracy: 0.9359 - val_loss: 0.3211 - val_accuracy: 0.9552\n",
      "Epoch 22/60\n",
      "25/25 - 0s - loss: 0.3251 - accuracy: 0.9346 - val_loss: 0.3103 - val_accuracy: 0.9493\n",
      "Epoch 23/60\n",
      "25/25 - 0s - loss: 0.3095 - accuracy: 0.9436 - val_loss: 0.3056 - val_accuracy: 0.9403\n",
      "Epoch 24/60\n",
      "25/25 - 0s - loss: 0.2990 - accuracy: 0.9436 - val_loss: 0.2906 - val_accuracy: 0.9552\n",
      "Epoch 25/60\n",
      "25/25 - 0s - loss: 0.2826 - accuracy: 0.9436 - val_loss: 0.2769 - val_accuracy: 0.9552\n",
      "Epoch 26/60\n",
      "25/25 - 0s - loss: 0.2694 - accuracy: 0.9538 - val_loss: 0.2730 - val_accuracy: 0.9463\n",
      "Epoch 27/60\n",
      "25/25 - 0s - loss: 0.2593 - accuracy: 0.9513 - val_loss: 0.2682 - val_accuracy: 0.9582\n",
      "Epoch 28/60\n",
      "25/25 - 0s - loss: 0.2485 - accuracy: 0.9564 - val_loss: 0.2564 - val_accuracy: 0.9552\n",
      "Epoch 29/60\n",
      "25/25 - 0s - loss: 0.2389 - accuracy: 0.9577 - val_loss: 0.2499 - val_accuracy: 0.9612\n",
      "Epoch 30/60\n",
      "25/25 - 0s - loss: 0.2285 - accuracy: 0.9667 - val_loss: 0.2442 - val_accuracy: 0.9552\n",
      "Epoch 31/60\n",
      "25/25 - 0s - loss: 0.2195 - accuracy: 0.9705 - val_loss: 0.2413 - val_accuracy: 0.9493\n",
      "Epoch 32/60\n",
      "25/25 - 0s - loss: 0.2120 - accuracy: 0.9667 - val_loss: 0.2392 - val_accuracy: 0.9493\n",
      "Epoch 33/60\n",
      "25/25 - 0s - loss: 0.2052 - accuracy: 0.9718 - val_loss: 0.2321 - val_accuracy: 0.9522\n",
      "Epoch 34/60\n",
      "25/25 - 0s - loss: 0.1979 - accuracy: 0.9692 - val_loss: 0.2277 - val_accuracy: 0.9522\n",
      "Epoch 35/60\n",
      "25/25 - 0s - loss: 0.1914 - accuracy: 0.9692 - val_loss: 0.2276 - val_accuracy: 0.9433\n",
      "Epoch 36/60\n",
      "25/25 - 0s - loss: 0.1833 - accuracy: 0.9756 - val_loss: 0.2216 - val_accuracy: 0.9552\n",
      "Epoch 37/60\n",
      "25/25 - 0s - loss: 0.1786 - accuracy: 0.9769 - val_loss: 0.2192 - val_accuracy: 0.9463\n",
      "Epoch 38/60\n",
      "25/25 - 0s - loss: 0.1711 - accuracy: 0.9808 - val_loss: 0.2124 - val_accuracy: 0.9612\n",
      "Epoch 39/60\n",
      "25/25 - 0s - loss: 0.1658 - accuracy: 0.9821 - val_loss: 0.2095 - val_accuracy: 0.9552\n",
      "Epoch 40/60\n",
      "25/25 - 0s - loss: 0.1606 - accuracy: 0.9833 - val_loss: 0.2117 - val_accuracy: 0.9493\n",
      "Epoch 41/60\n",
      "25/25 - 0s - loss: 0.1563 - accuracy: 0.9808 - val_loss: 0.2051 - val_accuracy: 0.9433\n",
      "Epoch 42/60\n",
      "25/25 - 0s - loss: 0.1509 - accuracy: 0.9821 - val_loss: 0.2022 - val_accuracy: 0.9522\n",
      "Epoch 43/60\n",
      "25/25 - 0s - loss: 0.1458 - accuracy: 0.9846 - val_loss: 0.2015 - val_accuracy: 0.9522\n",
      "Epoch 44/60\n",
      "25/25 - 0s - loss: 0.1423 - accuracy: 0.9859 - val_loss: 0.1972 - val_accuracy: 0.9582\n",
      "Epoch 45/60\n",
      "25/25 - 0s - loss: 0.1377 - accuracy: 0.9872 - val_loss: 0.1967 - val_accuracy: 0.9552\n",
      "Epoch 46/60\n",
      "25/25 - 0s - loss: 0.1341 - accuracy: 0.9910 - val_loss: 0.1984 - val_accuracy: 0.9463\n",
      "Epoch 47/60\n",
      "25/25 - 0s - loss: 0.1296 - accuracy: 0.9910 - val_loss: 0.1920 - val_accuracy: 0.9493\n",
      "Epoch 48/60\n",
      "25/25 - 0s - loss: 0.1267 - accuracy: 0.9923 - val_loss: 0.1907 - val_accuracy: 0.9552\n",
      "Epoch 49/60\n",
      "25/25 - 0s - loss: 0.1223 - accuracy: 0.9949 - val_loss: 0.1922 - val_accuracy: 0.9493\n",
      "Epoch 50/60\n",
      "25/25 - 0s - loss: 0.1199 - accuracy: 0.9936 - val_loss: 0.1885 - val_accuracy: 0.9522\n",
      "Epoch 51/60\n",
      "25/25 - 0s - loss: 0.1162 - accuracy: 0.9936 - val_loss: 0.1866 - val_accuracy: 0.9552\n",
      "Epoch 52/60\n",
      "25/25 - 0s - loss: 0.1133 - accuracy: 0.9962 - val_loss: 0.1838 - val_accuracy: 0.9522\n",
      "Epoch 53/60\n",
      "25/25 - 0s - loss: 0.1102 - accuracy: 0.9949 - val_loss: 0.1823 - val_accuracy: 0.9582\n",
      "Epoch 54/60\n",
      "25/25 - 0s - loss: 0.1070 - accuracy: 0.9974 - val_loss: 0.1828 - val_accuracy: 0.9552\n",
      "Epoch 55/60\n",
      "25/25 - 0s - loss: 0.1045 - accuracy: 0.9949 - val_loss: 0.1801 - val_accuracy: 0.9493\n",
      "Epoch 56/60\n",
      "25/25 - 0s - loss: 0.1021 - accuracy: 0.9974 - val_loss: 0.1810 - val_accuracy: 0.9493\n",
      "Epoch 57/60\n",
      "25/25 - 0s - loss: 0.0994 - accuracy: 0.9962 - val_loss: 0.1797 - val_accuracy: 0.9552\n",
      "Epoch 58/60\n",
      "25/25 - 0s - loss: 0.0971 - accuracy: 0.9962 - val_loss: 0.1783 - val_accuracy: 0.9493\n",
      "Epoch 59/60\n",
      "25/25 - 0s - loss: 0.0946 - accuracy: 0.9974 - val_loss: 0.1761 - val_accuracy: 0.9582\n",
      "Epoch 60/60\n",
      "25/25 - 0s - loss: 0.0920 - accuracy: 0.9974 - val_loss: 0.1760 - val_accuracy: 0.9493\n",
      "15/15 [==============================] - 0s 2ms/step - loss: 0.3115 - accuracy: 0.8933\n",
      "Test accuracy: 0.8933054208755493\n",
      "Test loss: 0.31146347522735596\n"
     ]
    }
   ],
   "source": [
    "# Simple sequential model\n",
    "model = Sequential()\n",
    "model.add(Dense(100, activation='sigmoid', input_shape = (X.shape[1],), use_bias=True, bias_initializer='ones'))\n",
    "model.add(Dense(y.shape[1], activation='sigmoid', use_bias=True, bias_initializer='ones'))\n",
    "my_optimizer = SGD(lr=0.1)\n",
    "model.compile(optimizer=my_optimizer, loss='categorical_crossentropy', metrics=['accuracy'])\n",
    "\n",
    "early_stopping_monitor = EarlyStopping(patience=2)\n",
    "\n",
    "history = model.fit(X_train, y_train, validation_split=0.3, epochs=60, verbose=2, callbacks=[early_stopping_monitor])\n",
    "history\n",
    "\n",
    "score = model.evaluate(X_test, y_test)\n",
    "print('Test accuracy:', score[1])\n",
    "print('Test loss:', score[0])\n",
    "\n",
    "y_pred = model.predict(X_test)"
   ]
  },
  {
   "cell_type": "code",
   "execution_count": 136,
   "id": "associate-excitement",
   "metadata": {},
   "outputs": [
    {
     "data": {
      "text/plain": [
       "array([7, 3, 5, 4, 1, 0, 8, 4, 6, 7, 3, 4, 1, 3, 4, 3, 6, 3, 2, 9, 4, 5,\n",
       "       7, 3, 7, 3, 3, 8, 9, 2, 3, 6, 8, 2, 6, 0, 4, 3, 5, 6, 0, 1, 4, 9,\n",
       "       1, 2, 7, 2, 7, 4, 8, 2, 9, 4, 7, 9, 1, 6, 0, 1, 0, 0, 6, 9, 4, 1,\n",
       "       3, 0, 8, 3, 7, 5, 4, 2, 0, 0, 4, 4, 1, 7, 4, 0, 2, 6, 2, 7, 2, 3,\n",
       "       3, 8, 7, 3, 2, 3, 2, 0, 0, 9, 7, 1, 0, 4, 3, 9, 6, 9, 1, 4, 9, 4,\n",
       "       2, 7, 0, 8, 9, 9, 9, 3, 8, 4, 1, 4, 8, 3, 0, 3, 3, 3, 2, 6, 3, 5,\n",
       "       2, 5, 3, 9, 6, 1, 9, 0, 0, 0, 7, 9, 3, 2, 9, 9, 2, 6, 7, 3, 2, 1,\n",
       "       3, 2, 3, 0, 0, 5, 9, 8, 5, 4, 0, 1, 1, 1, 5, 7, 3, 7, 2, 6, 1, 8,\n",
       "       3, 9, 6, 4, 3, 9, 1, 0, 6, 2, 8, 3, 1, 2, 4, 5, 5, 1, 3, 8, 0, 0,\n",
       "       6, 7, 9, 7, 2, 0, 8, 2, 6, 7, 7, 2, 3, 4, 3, 5, 2, 6, 5, 0, 3, 0,\n",
       "       5, 0, 2, 4, 7, 2, 5, 0, 9, 5, 4, 9, 4, 3, 1, 6, 3, 9, 4, 3, 8, 8,\n",
       "       1, 7, 9, 3, 3, 2, 6, 0, 5, 0, 7, 8, 5, 0, 4, 5, 8, 0, 8, 2, 5, 9,\n",
       "       9, 3, 3, 3, 0, 1, 3, 6, 2, 5, 7, 8, 9, 3, 0, 6, 3, 1, 9, 0, 8, 0,\n",
       "       3, 3, 3, 5, 4, 8, 7, 3, 1, 9, 6, 3, 2, 8, 5, 4, 2, 2, 5, 4, 9, 9,\n",
       "       1, 4, 5, 9, 5, 5, 1, 4, 4, 8, 2, 6, 9, 5, 1, 1, 0, 4, 9, 1, 1, 7,\n",
       "       1, 8, 5, 0, 1, 0, 8, 6, 8, 4, 4, 2, 0, 3, 8, 4, 0, 1, 3, 1, 6, 1,\n",
       "       8, 5, 6, 0, 1, 1, 2, 9, 0, 7, 9, 3, 5, 4, 7, 9, 1, 2, 2, 9, 2, 5,\n",
       "       4, 3, 9, 5, 1, 6, 6, 4, 9, 4, 0, 7, 5, 6, 4, 1, 1, 8, 0, 2, 0, 0,\n",
       "       7, 9, 7, 8, 2, 1, 7, 7, 9, 8, 3, 2, 1, 3, 8, 9, 8, 9, 3, 6, 4, 3,\n",
       "       0, 3, 6, 9, 9, 5, 0, 4, 4, 9, 6, 9, 3, 9, 7, 9, 6, 8, 0, 2, 1, 3,\n",
       "       5, 3, 3, 3, 6, 5, 6, 0, 3, 8, 6, 8, 5, 5, 9, 3, 5, 4, 9, 8, 0, 8,\n",
       "       3, 5, 0, 6, 2, 8, 5, 7, 1, 2, 7, 7, 6, 7, 5, 0])"
      ]
     },
     "execution_count": 136,
     "metadata": {},
     "output_type": "execute_result"
    }
   ],
   "source": [
    "y_predl = model.predict(X_test)\n",
    "predl = np.argmax(y_predl, axis = 1)\n",
    "predl"
   ]
  },
  {
   "cell_type": "code",
   "execution_count": 44,
   "id": "impressed-bicycle",
   "metadata": {},
   "outputs": [
    {
     "data": {
      "image/png": "[encoded data removed]",
      "text/plain": [
       "<Figure size 432x288 with 1 Axes>"
      ]
     },
     "metadata": {
      "needs_background": "light"
     },
     "output_type": "display_data"
    },
    {
     "data": {
      "image/png": "[encoded data removed]",
      "text/plain": [
       "<Figure size 432x288 with 1 Axes>"
      ]
     },
     "metadata": {
      "needs_background": "light"
     },
     "output_type": "display_data"
    }
   ],
   "source": [
    "def plot_history(history):\n",
    "    # Plot training & validation accuracy values\n",
    "    plt.plot(history.history['accuracy'])\n",
    "    plt.plot(history.history['val_accuracy'])\n",
    "    plt.title('Model accuracy')\n",
    "    plt.ylabel('Accuracy')\n",
    "    plt.xlabel('Epoch')\n",
    "    plt.legend(['Train', 'Val'], loc='upper left')\n",
    "    plt.show()\n",
    "\n",
    "    # Plot training & validation loss values\n",
    "    plt.plot(history.history['loss'])\n",
    "    plt.plot(history.history['val_loss'])\n",
    "    plt.title('Model loss')\n",
    "    plt.ylabel('Loss')\n",
    "    plt.xlabel('Epoch')\n",
    "    plt.legend(['Train', 'Val'], loc='upper left')\n",
    "    plt.show()\n",
    "    \n",
    "plot_history(history)"
   ]
  },
  {
   "cell_type": "code",
   "execution_count": 39,
   "id": "sacred-shock",
   "metadata": {},
   "outputs": [
    {
     "name": "stdout",
     "output_type": "stream",
     "text": [
      "Epoch 1/60\n",
      "25/25 - 1s - loss: 2.6070 - accuracy: 0.0859 - val_loss: 2.2929 - val_accuracy: 0.1045\n",
      "Epoch 2/60\n",
      "25/25 - 0s - loss: 2.2795 - accuracy: 0.1333 - val_loss: 2.2896 - val_accuracy: 0.1433\n",
      "Epoch 3/60\n",
      "25/25 - 0s - loss: 2.2178 - accuracy: 0.1821 - val_loss: 2.1772 - val_accuracy: 0.1463\n",
      "Epoch 4/60\n",
      "25/25 - 0s - loss: 2.1171 - accuracy: 0.2167 - val_loss: 1.9956 - val_accuracy: 0.2537\n",
      "Epoch 5/60\n",
      "25/25 - 0s - loss: 1.9705 - accuracy: 0.2821 - val_loss: 2.0273 - val_accuracy: 0.3075\n",
      "Epoch 6/60\n",
      "25/25 - 0s - loss: 1.8069 - accuracy: 0.3744 - val_loss: 1.8319 - val_accuracy: 0.3194\n",
      "Epoch 7/60\n",
      "25/25 - 0s - loss: 1.5610 - accuracy: 0.4295 - val_loss: 2.1658 - val_accuracy: 0.3284\n",
      "Epoch 8/60\n",
      "25/25 - 0s - loss: 1.4874 - accuracy: 0.4885 - val_loss: 1.2193 - val_accuracy: 0.6149\n",
      "Epoch 9/60\n",
      "25/25 - 0s - loss: 1.0080 - accuracy: 0.6744 - val_loss: 1.6981 - val_accuracy: 0.4776\n",
      "Epoch 10/60\n",
      "25/25 - 0s - loss: 0.7708 - accuracy: 0.7308 - val_loss: 0.6639 - val_accuracy: 0.7373\n",
      "Epoch 11/60\n",
      "25/25 - 0s - loss: 0.5706 - accuracy: 0.8000 - val_loss: 0.4117 - val_accuracy: 0.8776\n",
      "Epoch 12/60\n",
      "25/25 - 0s - loss: 0.3854 - accuracy: 0.8808 - val_loss: 0.3894 - val_accuracy: 0.8806\n",
      "Epoch 13/60\n",
      "25/25 - 0s - loss: 0.4176 - accuracy: 0.8538 - val_loss: 0.6479 - val_accuracy: 0.7851\n",
      "Epoch 14/60\n",
      "25/25 - 0s - loss: 0.2044 - accuracy: 0.9346 - val_loss: 0.2749 - val_accuracy: 0.9164\n",
      "Epoch 15/60\n",
      "25/25 - 0s - loss: 0.1768 - accuracy: 0.9372 - val_loss: 0.2829 - val_accuracy: 0.9015\n",
      "Epoch 16/60\n",
      "25/25 - 0s - loss: 0.0915 - accuracy: 0.9692 - val_loss: 0.3425 - val_accuracy: 0.8955\n",
      "15/15 [==============================] - 0s 2ms/step - loss: 0.5536 - accuracy: 0.8285\n",
      "Test accuracy: 0.8284518718719482\n",
      "Test loss: 0.5536104440689087\n"
     ]
    }
   ],
   "source": [
    "#Layered sequential model\n",
    "model = Sequential()\n",
    "model.add(Dense(128, activation='relu', input_shape = (X.shape[1],), use_bias=True, bias_initializer='ones'))\n",
    "model.add(Dense(64, activation='relu', use_bias=True, bias_initializer='ones'))\n",
    "model.add(Dense(32, activation='relu', use_bias=True, bias_initializer='ones'))\n",
    "model.add(Dense(16, activation='relu', use_bias=True, bias_initializer='ones'))        \n",
    "model.add(Dense(y.shape[1], activation='sigmoid', use_bias=True, bias_initializer='ones'))\n",
    "\n",
    "my_optimizer = SGD(lr=0.1)\n",
    "model.compile(optimizer=my_optimizer, loss='categorical_crossentropy', metrics=['accuracy'])\n",
    "early_stopping_monitor = EarlyStopping(patience=2)\n",
    "\n",
    "history = model.fit(X_train, y_train, validation_split=0.3, epochs=60, verbose=2, callbacks=[early_stopping_monitor])\n",
    "history\n",
    "\n",
    "score = model.evaluate(X_test, y_test)\n",
    "print('Test accuracy:', score[1])\n",
    "print('Test loss:', score[0])\n",
    "\n",
    "y_pred = model.predict(X_test)"
   ]
  },
  {
   "cell_type": "code",
   "execution_count": 45,
   "id": "criminal-robertson",
   "metadata": {},
   "outputs": [
    {
     "data": {
      "image/png": "[encoded data removed]",
      "text/plain": [
       "<Figure size 432x288 with 1 Axes>"
      ]
     },
     "metadata": {
      "needs_background": "light"
     },
     "output_type": "display_data"
    },
    {
     "data": {
      "image/png": "[encoded data removed]",
      "text/plain": [
       "<Figure size 432x288 with 1 Axes>"
      ]
     },
     "metadata": {
      "needs_background": "light"
     },
     "output_type": "display_data"
    }
   ],
   "source": [
    "plot_history(history)"
   ]
  },
  {
   "cell_type": "code",
   "execution_count": 46,
   "id": "checked-summer",
   "metadata": {},
   "outputs": [],
   "source": [
    "from keras.layers import Dense, Dropout, Flatten\n",
    "from keras.layers.advanced_activations import LeakyReLU\n",
    "from keras.layers import Conv2D, MaxPooling2D"
   ]
  },
  {
   "cell_type": "code",
   "execution_count": 87,
   "id": "gorgeous-mills",
   "metadata": {},
   "outputs": [],
   "source": [
    "train_X, test_X, train_y, test_y = train_test_split(np.array(X).reshape((1593,16,16,-1)),\\\n",
    "                                                    np.array(y).reshape((1593,10)) ,test_size = 0.3, random_state=555,\\\n",
    "                                                   stratify=np.array(y).reshape((1593,10)))"
   ]
  },
  {
   "cell_type": "code",
   "execution_count": 116,
   "id": "creative-optimization",
   "metadata": {},
   "outputs": [
    {
     "name": "stdout",
     "output_type": "stream",
     "text": [
      "Model: \"sequential_40\"\n",
      "_________________________________________________________________\n",
      "Layer (type)                 Output Shape              Param #   \n",
      "=================================================================\n",
      "conv2d_39 (Conv2D)           (None, 16, 16, 16)        160       \n",
      "_________________________________________________________________\n",
      "max_pooling2d_34 (MaxPooling (None, 8, 8, 16)          0         \n",
      "_________________________________________________________________\n",
      "conv2d_40 (Conv2D)           (None, 8, 8, 32)          4640      \n",
      "_________________________________________________________________\n",
      "max_pooling2d_35 (MaxPooling (None, 4, 4, 32)          0         \n",
      "_________________________________________________________________\n",
      "flatten_20 (Flatten)         (None, 512)               0         \n",
      "_________________________________________________________________\n",
      "dense_57 (Dense)             (None, 256)               131328    \n",
      "_________________________________________________________________\n",
      "dropout_17 (Dropout)         (None, 256)               0         \n",
      "_________________________________________________________________\n",
      "dense_58 (Dense)             (None, 10)                2570      \n",
      "=================================================================\n",
      "Total params: 138,698\n",
      "Trainable params: 138,698\n",
      "Non-trainable params: 0\n",
      "_________________________________________________________________\n"
     ]
    }
   ],
   "source": [
    "#CNN\n",
    "model = Sequential()\n",
    "model.add(Conv2D(16, input_shape=(16, 16, 1),kernel_size=(3, 3), padding='same', activation='relu'))\n",
    "model.add(MaxPooling2D(pool_size=(2, 2)))\n",
    "model.add(Conv2D(32, kernel_size=(3, 3), activation='relu', padding='same'))\n",
    "model.add(MaxPooling2D(pool_size=(2, 2)))\n",
    "model.add(Flatten())\n",
    "model.add(Dense(256, activation='relu' ))\n",
    "model.add(Dropout(0.25))\n",
    "model.add(Dense(10, activation='softmax'))\n",
    "my_optimizer = SGD(lr=0.1) #optimizer='adam'\n",
    "model.compile(optimizer='Nadam', loss='categorical_crossentropy', metrics=['accuracy']) #Nadam is a more stable optimizer\n",
    "model.summary()"
   ]
  },
  {
   "cell_type": "code",
   "execution_count": 117,
   "id": "expressed-anchor",
   "metadata": {},
   "outputs": [
    {
     "name": "stdout",
     "output_type": "stream",
     "text": [
      "Epoch 1/20\n",
      "7/7 [==============================] - 2s 91ms/step - loss: 2.2542 - accuracy: 0.1928 - val_loss: 2.0549 - val_accuracy: 0.2269\n",
      "Epoch 2/20\n",
      "7/7 [==============================] - 0s 35ms/step - loss: 1.9412 - accuracy: 0.4545 - val_loss: 1.6415 - val_accuracy: 0.5343\n",
      "Epoch 3/20\n",
      "7/7 [==============================] - 0s 35ms/step - loss: 1.4612 - accuracy: 0.6397 - val_loss: 1.1724 - val_accuracy: 0.6358\n",
      "Epoch 4/20\n",
      "7/7 [==============================] - 0s 35ms/step - loss: 1.0073 - accuracy: 0.7108 - val_loss: 0.7595 - val_accuracy: 0.7970\n",
      "Epoch 5/20\n",
      "7/7 [==============================] - 0s 36ms/step - loss: 0.6657 - accuracy: 0.8174 - val_loss: 0.7165 - val_accuracy: 0.7642\n",
      "Epoch 6/20\n",
      "7/7 [==============================] - 0s 36ms/step - loss: 0.5936 - accuracy: 0.8046 - val_loss: 0.4720 - val_accuracy: 0.8537\n",
      "Epoch 7/20\n",
      "7/7 [==============================] - 0s 39ms/step - loss: 0.3978 - accuracy: 0.8686 - val_loss: 0.4218 - val_accuracy: 0.8657\n",
      "Epoch 8/20\n",
      "7/7 [==============================] - 0s 38ms/step - loss: 0.3140 - accuracy: 0.9041 - val_loss: 0.3312 - val_accuracy: 0.9075\n",
      "Epoch 9/20\n",
      "7/7 [==============================] - 0s 37ms/step - loss: 0.2640 - accuracy: 0.9130 - val_loss: 0.3053 - val_accuracy: 0.9134\n",
      "Epoch 10/20\n",
      "7/7 [==============================] - 0s 35ms/step - loss: 0.2252 - accuracy: 0.9293 - val_loss: 0.2829 - val_accuracy: 0.9134\n",
      "Epoch 11/20\n",
      "7/7 [==============================] - 0s 42ms/step - loss: 0.1868 - accuracy: 0.9367 - val_loss: 0.2659 - val_accuracy: 0.9164\n",
      "Epoch 12/20\n",
      "7/7 [==============================] - 0s 45ms/step - loss: 0.1723 - accuracy: 0.9507 - val_loss: 0.2642 - val_accuracy: 0.9224\n",
      "Epoch 13/20\n",
      "7/7 [==============================] - 0s 59ms/step - loss: 0.1663 - accuracy: 0.9411 - val_loss: 0.2482 - val_accuracy: 0.9134\n",
      "Epoch 14/20\n",
      "7/7 [==============================] - 0s 38ms/step - loss: 0.1483 - accuracy: 0.9560 - val_loss: 0.2574 - val_accuracy: 0.9164\n",
      "Epoch 15/20\n",
      "7/7 [==============================] - 0s 37ms/step - loss: 0.1309 - accuracy: 0.9639 - val_loss: 0.2398 - val_accuracy: 0.9224\n",
      "Epoch 16/20\n",
      "7/7 [==============================] - 0s 47ms/step - loss: 0.1319 - accuracy: 0.9555 - val_loss: 0.2192 - val_accuracy: 0.9194\n",
      "Epoch 17/20\n",
      "7/7 [==============================] - 0s 52ms/step - loss: 0.0956 - accuracy: 0.9782 - val_loss: 0.2188 - val_accuracy: 0.9313\n",
      "Epoch 18/20\n",
      "7/7 [==============================] - 0s 36ms/step - loss: 0.0951 - accuracy: 0.9784 - val_loss: 0.2170 - val_accuracy: 0.9313\n",
      "Epoch 19/20\n",
      "7/7 [==============================] - 0s 44ms/step - loss: 0.0718 - accuracy: 0.9835 - val_loss: 0.2189 - val_accuracy: 0.9313\n",
      "Epoch 20/20\n",
      "7/7 [==============================] - 0s 47ms/step - loss: 0.0656 - accuracy: 0.9856 - val_loss: 0.2080 - val_accuracy: 0.9284\n"
     ]
    }
   ],
   "source": [
    "#train_X, test_X, train_y, test_y\n",
    "history = model.fit(train_X, train_y, epochs=20, batch_size=128, validation_split=0.3, shuffle=False)"
   ]
  },
  {
   "cell_type": "code",
   "execution_count": 118,
   "id": "complete-decimal",
   "metadata": {},
   "outputs": [
    {
     "name": "stdout",
     "output_type": "stream",
     "text": [
      "15/15 [==============================] - 0s 5ms/step - loss: 0.1644 - accuracy: 0.9603\n",
      "Test accuracy: 0.9602510333061218\n",
      "Test loss: 0.16444557905197144\n"
     ]
    }
   ],
   "source": [
    "score = model.evaluate(test_X, test_y)\n",
    "print('Test accuracy:', score[1])\n",
    "print('Test loss:', score[0]) "
   ]
  },
  {
   "cell_type": "code",
   "execution_count": 119,
   "id": "noticed-output",
   "metadata": {},
   "outputs": [
    {
     "data": {
      "image/png": "[encoded data removed]",
      "text/plain": [
       "<Figure size 432x288 with 1 Axes>"
      ]
     },
     "metadata": {
      "needs_background": "light"
     },
     "output_type": "display_data"
    },
    {
     "data": {
      "image/png": "[encoded data removed]",
      "text/plain": [
       "<Figure size 432x288 with 1 Axes>"
      ]
     },
     "metadata": {
      "needs_background": "light"
     },
     "output_type": "display_data"
    }
   ],
   "source": [
    "plot_history(history)"
   ]
  },
  {
   "cell_type": "code",
   "execution_count": 120,
   "id": "stuck-hardware",
   "metadata": {},
   "outputs": [],
   "source": [
    "y_pred = model.predict(test_X)"
   ]
  },
  {
   "cell_type": "code",
   "execution_count": 121,
   "id": "square-atlantic",
   "metadata": {},
   "outputs": [],
   "source": [
    "preds = np.argmax(y_pred, axis = 1)"
   ]
  },
  {
   "cell_type": "code",
   "execution_count": 122,
   "id": "deluxe-homework",
   "metadata": {},
   "outputs": [
    {
     "data": {
      "text/plain": [
       "array([4, 1, 5, 7, 1, 6, 1, 5, 7, 1, 3, 7, 4, 0, 8, 4, 5, 8, 7, 9, 4, 3,\n",
       "       5, 1, 6, 0, 0, 2, 9, 4, 6, 0, 9, 5, 0, 8, 2, 8, 8, 8, 7, 0, 5, 0,\n",
       "       0, 3, 4, 0, 4, 3, 4, 9, 7, 2, 3, 8, 8, 5, 8, 4, 4, 6, 1, 8, 0, 0,\n",
       "       9, 1, 6, 8, 6, 3, 3, 2, 1, 6, 9, 6, 0, 8, 5, 1, 2, 9, 0, 3, 5, 7,\n",
       "       1, 1, 3, 6, 0, 9, 2, 6, 6, 8, 2, 1, 1, 6, 4, 1, 4, 3, 6, 5, 6, 3,\n",
       "       3, 3, 0, 0, 1, 9, 9, 5, 4, 7, 2, 6, 9, 2, 0, 1, 4, 5, 3, 6, 8, 9,\n",
       "       6, 4, 9, 9, 2, 5, 9, 8, 6, 4, 3, 4, 5, 0, 1, 9, 4, 9, 2, 8, 2, 0,\n",
       "       8, 2, 7, 5, 2, 6, 0, 8, 4, 5, 7, 1, 3, 7, 6, 8, 0, 5, 9, 8, 3, 1,\n",
       "       0, 7, 2, 4, 1, 1, 4, 6, 9, 9, 0, 0, 0, 5, 9, 4, 3, 1, 5, 9, 4, 7,\n",
       "       6, 0, 2, 0, 0, 4, 1, 7, 8, 4, 3, 5, 5, 2, 0, 7, 8, 3, 6, 1, 2, 7,\n",
       "       1, 6, 2, 1, 1, 5, 9, 7, 2, 9, 2, 6, 0, 5, 3, 6, 3, 8, 2, 3, 3, 3,\n",
       "       4, 0, 4, 4, 9, 0, 1, 1, 5, 6, 3, 4, 6, 4, 7, 9, 3, 4, 8, 1, 3, 6,\n",
       "       5, 9, 0, 3, 8, 8, 5, 1, 9, 9, 9, 4, 4, 8, 2, 7, 0, 1, 6, 4, 0, 3,\n",
       "       1, 7, 5, 6, 1, 1, 0, 4, 2, 2, 1, 8, 7, 3, 1, 9, 7, 5, 3, 0, 8, 2,\n",
       "       8, 0, 5, 9, 8, 9, 4, 4, 9, 6, 5, 2, 2, 1, 4, 2, 8, 4, 2, 8, 7, 3,\n",
       "       7, 4, 0, 4, 7, 8, 1, 5, 8, 2, 7, 1, 7, 3, 2, 8, 3, 7, 9, 3, 2, 2,\n",
       "       6, 7, 1, 5, 0, 4, 4, 0, 1, 3, 2, 9, 1, 9, 3, 5, 5, 6, 2, 4, 6, 4,\n",
       "       5, 1, 1, 1, 9, 5, 4, 1, 6, 0, 1, 6, 8, 1, 6, 8, 9, 9, 6, 8, 8, 9,\n",
       "       5, 7, 2, 5, 5, 5, 2, 3, 8, 3, 8, 9, 7, 2, 2, 1, 0, 7, 0, 6, 7, 7,\n",
       "       3, 6, 6, 7, 2, 4, 8, 6, 9, 7, 7, 4, 2, 5, 2, 5, 0, 5, 6, 8, 5, 0,\n",
       "       3, 7, 7, 2, 2, 7, 8, 3, 7, 3, 0, 2, 5, 5, 7, 4, 9, 9, 8, 4, 9, 9,\n",
       "       3, 5, 3, 3, 8, 7, 0, 7, 6, 4, 2, 5, 8, 7, 5, 5])"
      ]
     },
     "execution_count": 122,
     "metadata": {},
     "output_type": "execute_result"
    }
   ],
   "source": [
    "preds"
   ]
  },
  {
   "cell_type": "code",
   "execution_count": 219,
   "id": "durable-latter",
   "metadata": {},
   "outputs": [],
   "source": [
    "#Filtering the data fir only 2 classes \n",
    "Y_cat = np.argmax(y,axis=1)\n",
    "X_a = X[np.logical_or(Y_cat==3 , Y_cat==4)]\n",
    "Y_a = y[np.logical_or(Y_cat==3 , Y_cat==4)]\n",
    "X_train, X_test, y_train, y_test = train_test_split(X_a, Y_a, test_size = 0.3, random_state=2)"
   ]
  },
  {
   "cell_type": "markdown",
   "id": "serious-transfer",
   "metadata": {},
   "source": [
    "### Auto Encoders"
   ]
  },
  {
   "cell_type": "code",
   "execution_count": 284,
   "id": "steady-austria",
   "metadata": {},
   "outputs": [],
   "source": [
    "import keras\n",
    "from keras import layers\n",
    "\n",
    "encoding_dim = 900\n",
    "input_img = keras.Input(shape=(256,))\n",
    "encoded = layers.Dense(encoding_dim, activation='relu')(input_img)\n",
    "encoded = layers.Dense(900, activation='relu')(encoded)\n",
    "decoded = layers.Dense(256, activation='sigmoid')(encoded)\n",
    "autoencoder = keras.Model(input_img, decoded)"
   ]
  },
  {
   "cell_type": "code",
   "execution_count": 295,
   "id": "vocational-bishop",
   "metadata": {},
   "outputs": [
    {
     "data": {
      "text/plain": [
       "tensorflow.python.keras.engine.keras_tensor.KerasTensor"
      ]
     },
     "execution_count": 295,
     "metadata": {},
     "output_type": "execute_result"
    }
   ],
   "source": []
  },
  {
   "cell_type": "code",
   "execution_count": 285,
   "id": "entitled-victim",
   "metadata": {},
   "outputs": [],
   "source": [
    "encoder = keras.Model(input_img, encoded)"
   ]
  },
  {
   "cell_type": "code",
   "execution_count": 286,
   "id": "independent-feeding",
   "metadata": {},
   "outputs": [],
   "source": [
    "# This is our encod\n",
    "encoded_input = keras.Input(shape=(encoding_dim,))\n",
    "# Retrieve the last layer of the autoencoder model\n",
    "decoder_layer = autoencoder.layers[-1]\n",
    "# Create the decoder model\n",
    "decoder = keras.Model(encoded_input, decoder_layer(encoded_input))"
   ]
  },
  {
   "cell_type": "code",
   "execution_count": 287,
   "id": "international-disposal",
   "metadata": {},
   "outputs": [],
   "source": [
    "autoencoder.compile(optimizer='adam', loss='binary_crossentropy')"
   ]
  },
  {
   "cell_type": "code",
   "execution_count": 288,
   "id": "weighted-ribbon",
   "metadata": {},
   "outputs": [
    {
     "name": "stdout",
     "output_type": "stream",
     "text": [
      "Epoch 1/50\n",
      "1/1 [==============================] - 1s 744ms/step - loss: 0.6979 - val_loss: 0.6447\n",
      "Epoch 2/50\n",
      "1/1 [==============================] - 0s 120ms/step - loss: 0.6434 - val_loss: 0.5992\n",
      "Epoch 3/50\n",
      "1/1 [==============================] - 0s 127ms/step - loss: 0.5960 - val_loss: 0.5633\n",
      "Epoch 4/50\n",
      "1/1 [==============================] - 0s 114ms/step - loss: 0.5563 - val_loss: 0.5506\n",
      "Epoch 5/50\n",
      "1/1 [==============================] - 0s 136ms/step - loss: 0.5370 - val_loss: 0.5419\n",
      "Epoch 6/50\n",
      "1/1 [==============================] - 0s 117ms/step - loss: 0.5226 - val_loss: 0.5203\n",
      "Epoch 7/50\n",
      "1/1 [==============================] - 0s 121ms/step - loss: 0.4986 - val_loss: 0.4949\n",
      "Epoch 8/50\n",
      "1/1 [==============================] - 0s 140ms/step - loss: 0.4730 - val_loss: 0.4749\n",
      "Epoch 9/50\n",
      "1/1 [==============================] - 0s 148ms/step - loss: 0.4533 - val_loss: 0.4611\n",
      "Epoch 10/50\n",
      "1/1 [==============================] - 0s 127ms/step - loss: 0.4396 - val_loss: 0.4508\n",
      "Epoch 11/50\n",
      "1/1 [==============================] - 0s 129ms/step - loss: 0.4285 - val_loss: 0.4410\n",
      "Epoch 12/50\n",
      "1/1 [==============================] - 0s 135ms/step - loss: 0.4165 - val_loss: 0.4301\n",
      "Epoch 13/50\n",
      "1/1 [==============================] - 0s 128ms/step - loss: 0.4021 - val_loss: 0.4184\n",
      "Epoch 14/50\n",
      "1/1 [==============================] - 0s 127ms/step - loss: 0.3859 - val_loss: 0.4074\n",
      "Epoch 15/50\n",
      "1/1 [==============================] - 0s 134ms/step - loss: 0.3701 - val_loss: 0.3980\n",
      "Epoch 16/50\n",
      "1/1 [==============================] - 0s 134ms/step - loss: 0.3561 - val_loss: 0.3889\n",
      "Epoch 17/50\n",
      "1/1 [==============================] - 0s 134ms/step - loss: 0.3432 - val_loss: 0.3783\n",
      "Epoch 18/50\n",
      "1/1 [==============================] - 0s 133ms/step - loss: 0.3299 - val_loss: 0.3667\n",
      "Epoch 19/50\n",
      "1/1 [==============================] - 0s 128ms/step - loss: 0.3165 - val_loss: 0.3555\n",
      "Epoch 20/50\n",
      "1/1 [==============================] - 0s 141ms/step - loss: 0.3039 - val_loss: 0.3448\n",
      "Epoch 21/50\n",
      "1/1 [==============================] - 0s 134ms/step - loss: 0.2921 - val_loss: 0.3348\n",
      "Epoch 22/50\n",
      "1/1 [==============================] - 0s 292ms/step - loss: 0.2809 - val_loss: 0.3258\n",
      "Epoch 23/50\n",
      "1/1 [==============================] - 0s 130ms/step - loss: 0.2698 - val_loss: 0.3177\n",
      "Epoch 24/50\n",
      "1/1 [==============================] - 0s 118ms/step - loss: 0.2586 - val_loss: 0.3103\n",
      "Epoch 25/50\n",
      "1/1 [==============================] - 0s 128ms/step - loss: 0.2477 - val_loss: 0.3033\n",
      "Epoch 26/50\n",
      "1/1 [==============================] - 0s 137ms/step - loss: 0.2373 - val_loss: 0.2966\n",
      "Epoch 27/50\n",
      "1/1 [==============================] - 0s 132ms/step - loss: 0.2275 - val_loss: 0.2898\n",
      "Epoch 28/50\n",
      "1/1 [==============================] - 0s 139ms/step - loss: 0.2182 - val_loss: 0.2826\n",
      "Epoch 29/50\n",
      "1/1 [==============================] - 0s 125ms/step - loss: 0.2093 - val_loss: 0.2756\n",
      "Epoch 30/50\n",
      "1/1 [==============================] - 0s 157ms/step - loss: 0.2004 - val_loss: 0.2693\n",
      "Epoch 31/50\n",
      "1/1 [==============================] - 0s 197ms/step - loss: 0.1920 - val_loss: 0.2635\n",
      "Epoch 32/50\n",
      "1/1 [==============================] - 0s 219ms/step - loss: 0.1839 - val_loss: 0.2580\n",
      "Epoch 33/50\n",
      "1/1 [==============================] - 0s 168ms/step - loss: 0.1757 - val_loss: 0.2530\n",
      "Epoch 34/50\n",
      "1/1 [==============================] - 0s 141ms/step - loss: 0.1680 - val_loss: 0.2481\n",
      "Epoch 35/50\n",
      "1/1 [==============================] - 0s 130ms/step - loss: 0.1607 - val_loss: 0.2427\n",
      "Epoch 36/50\n",
      "1/1 [==============================] - 0s 135ms/step - loss: 0.1535 - val_loss: 0.2378\n",
      "Epoch 37/50\n",
      "1/1 [==============================] - 0s 121ms/step - loss: 0.1465 - val_loss: 0.2336\n",
      "Epoch 38/50\n",
      "1/1 [==============================] - 0s 129ms/step - loss: 0.1400 - val_loss: 0.2296\n",
      "Epoch 39/50\n",
      "1/1 [==============================] - 0s 126ms/step - loss: 0.1337 - val_loss: 0.2258\n",
      "Epoch 40/50\n",
      "1/1 [==============================] - 0s 130ms/step - loss: 0.1276 - val_loss: 0.2222\n",
      "Epoch 41/50\n",
      "1/1 [==============================] - 0s 127ms/step - loss: 0.1218 - val_loss: 0.2184\n",
      "Epoch 42/50\n",
      "1/1 [==============================] - 0s 157ms/step - loss: 0.1162 - val_loss: 0.2150\n",
      "Epoch 43/50\n",
      "1/1 [==============================] - 0s 141ms/step - loss: 0.1109 - val_loss: 0.2121\n",
      "Epoch 44/50\n",
      "1/1 [==============================] - 0s 134ms/step - loss: 0.1057 - val_loss: 0.2090\n",
      "Epoch 45/50\n",
      "1/1 [==============================] - 0s 117ms/step - loss: 0.1009 - val_loss: 0.2056\n",
      "Epoch 46/50\n",
      "1/1 [==============================] - 0s 127ms/step - loss: 0.0961 - val_loss: 0.2023\n",
      "Epoch 47/50\n",
      "1/1 [==============================] - 0s 123ms/step - loss: 0.0917 - val_loss: 0.1995\n",
      "Epoch 48/50\n",
      "1/1 [==============================] - 0s 152ms/step - loss: 0.0874 - val_loss: 0.1974\n",
      "Epoch 49/50\n",
      "1/1 [==============================] - 0s 153ms/step - loss: 0.0832 - val_loss: 0.1959\n",
      "Epoch 50/50\n",
      "1/1 [==============================] - 0s 154ms/step - loss: 0.0792 - val_loss: 0.1940\n"
     ]
    },
    {
     "data": {
      "text/plain": [
       "<tensorflow.python.keras.callbacks.History at 0x7f918d826bb0>"
      ]
     },
     "execution_count": 288,
     "metadata": {},
     "output_type": "execute_result"
    }
   ],
   "source": [
    "autoencoder.fit(X_train, X_train,\n",
    "                epochs=50,\n",
    "                batch_size=256,\n",
    "                shuffle=True,\n",
    "                validation_data=(X_test, X_test))"
   ]
  },
  {
   "cell_type": "code",
   "execution_count": 289,
   "id": "packed-ivory",
   "metadata": {},
   "outputs": [
    {
     "name": "stdout",
     "output_type": "stream",
     "text": [
      "WARNING:tensorflow:5 out of the last 13 calls to <function Model.make_predict_function.<locals>.predict_function at 0x7f9144671ca0> triggered tf.function retracing. Tracing is expensive and the excessive number of tracings could be due to (1) creating @tf.function repeatedly in a loop, (2) passing tensors with different shapes, (3) passing Python objects instead of tensors. For (1), please define your @tf.function outside of the loop. For (2), @tf.function has experimental_relax_shapes=True option that relaxes argument shapes that can avoid unnecessary retracing. For (3), please refer to https://www.tensorflow.org/guide/function#controlling_retracing and https://www.tensorflow.org/api_docs/python/tf/function for  more details.\n",
      "WARNING:tensorflow:5 out of the last 13 calls to <function Model.make_predict_function.<locals>.predict_function at 0x7f91446711f0> triggered tf.function retracing. Tracing is expensive and the excessive number of tracings could be due to (1) creating @tf.function repeatedly in a loop, (2) passing tensors with different shapes, (3) passing Python objects instead of tensors. For (1), please define your @tf.function outside of the loop. For (2), @tf.function has experimental_relax_shapes=True option that relaxes argument shapes that can avoid unnecessary retracing. For (3), please refer to https://www.tensorflow.org/guide/function#controlling_retracing and https://www.tensorflow.org/api_docs/python/tf/function for  more details.\n"
     ]
    }
   ],
   "source": [
    "# Encode and decode some digits\n",
    "# Note that we take them from the *test* set\n",
    "encoded_imgs = encoder.predict(X_test)\n",
    "decoded_imgs = decoder.predict(encoded_imgs)"
   ]
  },
  {
   "cell_type": "code",
   "execution_count": 293,
   "id": "cultural-oxygen",
   "metadata": {},
   "outputs": [
    {
     "data": {
      "image/png": "[encoded data removed]",
      "text/plain": [
       "<Figure size 720x288 with 14 Axes>"
      ]
     },
     "metadata": {
      "needs_background": "light"
     },
     "output_type": "display_data"
    }
   ],
   "source": [
    "def plotnums(n):\n",
    "    plt.figure(figsize=(10, 4))\n",
    "    for i in range(n):\n",
    "        \"\"\"\n",
    "        Takes in one integer n \n",
    "        Then plots the numbers showing the orginal and the encoded. \n",
    "        \"\"\"\n",
    "        \n",
    "        ax = plt.subplot(2, n, i + 1)\n",
    "        plt.imshow(X_test[i].reshape(16, 16))\n",
    "        plt.gray()\n",
    "        ax.get_xaxis().set_visible(False)\n",
    "        ax.get_yaxis().set_visible(False)\n",
    "        \n",
    "        \n",
    "        ax = plt.subplot(2, n, i + 1 + n)\n",
    "        plt.imshow(decoded_imgs[i].reshape(16, 16))\n",
    "        plt.gray()\n",
    "        ax.get_xaxis().set_visible(False)\n",
    "        ax.get_yaxis().set_visible(False)\n",
    "    plt.show()\n",
    "    \n",
    "plotnums(7)    "
   ]
  },
  {
   "cell_type": "code",
   "execution_count": null,
   "id": "renewable-basis",
   "metadata": {},
   "outputs": [],
   "source": []
  }
 ],
 "metadata": {
  "kernelspec": {
   "display_name": "Python 3",
   "language": "python",
   "name": "python3"
  },
  "language_info": {
   "codemirror_mode": {
    "name": "ipython",
    "version": 3
   },
   "file_extension": ".py",
   "mimetype": "text/x-python",
   "name": "python",
   "nbconvert_exporter": "python",
   "pygments_lexer": "ipython3",
   "version": "3.8.5"
  }
 },
 "nbformat": 4,
 "nbformat_minor": 5
}
