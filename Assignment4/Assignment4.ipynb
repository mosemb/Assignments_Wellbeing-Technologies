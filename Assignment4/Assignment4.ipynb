{
 "cells": [
  {
   "cell_type": "markdown",
   "id": "contained-glance",
   "metadata": {},
   "source": [
    "# Assignment 4 WBT \n",
    "# Name: Moses Mbabaali \n",
    "# Matricola: 4846019"
   ]
  },
  {
   "cell_type": "code",
   "execution_count": 1,
   "id": "simplified-saver",
   "metadata": {},
   "outputs": [],
   "source": [
    "from keras.layers import Dense\n",
    "from keras.models import Sequential\n",
    "from keras.optimizers import SGD, Adam, Adagrad, Adadelta, RMSprop\n",
    "from keras.callbacks import EarlyStopping\n",
    "from sklearn.model_selection import train_test_split\n",
    "import matplotlib.pyplot as plt\n",
    "import numpy as np"
   ]
  },
  {
   "cell_type": "code",
   "execution_count": 2,
   "id": "processed-raise",
   "metadata": {},
   "outputs": [],
   "source": [
    "# Get the data\n",
    "with open(\"semeion.data\") as textFile:\n",
    "    data = [line.split() for line in textFile]"
   ]
  },
  {
   "cell_type": "code",
   "execution_count": 3,
   "id": "declared-complaint",
   "metadata": {},
   "outputs": [],
   "source": [
    "# Just reconverted the original data into this way it was way easier operating in this mode \n",
    "data = np.asarray(data)\n",
    "data = data.astype(float)"
   ]
  },
  {
   "cell_type": "code",
   "execution_count": 4,
   "id": "secondary-acceptance",
   "metadata": {},
   "outputs": [
    {
     "name": "stdout",
     "output_type": "stream",
     "text": [
      "(1593, 256)\n"
     ]
    },
    {
     "data": {
      "text/plain": [
       "array([[0., 0., 0., ..., 0., 0., 0.],\n",
       "       [0., 0., 0., ..., 0., 0., 0.],\n",
       "       [0., 0., 0., ..., 0., 0., 0.],\n",
       "       ...,\n",
       "       [0., 0., 1., ..., 0., 0., 0.],\n",
       "       [0., 1., 1., ..., 0., 0., 0.],\n",
       "       [0., 0., 0., ..., 0., 0., 0.]])"
      ]
     },
     "execution_count": 4,
     "metadata": {},
     "output_type": "execute_result"
    }
   ],
   "source": [
    "# The x values \n",
    "X = data[:,:-10]\n",
    "print(X.shape)\n",
    "X"
   ]
  },
  {
   "cell_type": "code",
   "execution_count": 5,
   "id": "intermediate-appraisal",
   "metadata": {},
   "outputs": [
    {
     "name": "stdout",
     "output_type": "stream",
     "text": [
      "(1593, 10)\n"
     ]
    },
    {
     "data": {
      "text/plain": [
       "array([[1., 0., 0., ..., 0., 0., 0.],\n",
       "       [1., 0., 0., ..., 0., 0., 0.],\n",
       "       [1., 0., 0., ..., 0., 0., 0.],\n",
       "       ...,\n",
       "       [0., 0., 0., ..., 0., 0., 1.],\n",
       "       [0., 0., 0., ..., 0., 0., 1.],\n",
       "       [0., 0., 0., ..., 0., 0., 1.]])"
      ]
     },
     "execution_count": 5,
     "metadata": {},
     "output_type": "execute_result"
    }
   ],
   "source": [
    "# The y values \n",
    "y = data[:,-10:]\n",
    "print(y.shape)\n",
    "y"
   ]
  },
  {
   "cell_type": "code",
   "execution_count": 6,
   "id": "hollow-protein",
   "metadata": {},
   "outputs": [
    {
     "data": {
      "text/plain": [
       "array([[0., 0., 0., 0., 0., 0., 1., 1., 1., 1., 1., 1., 1., 1., 0., 0.],\n",
       "       [0., 0., 0., 0., 0., 1., 1., 1., 1., 1., 1., 0., 1., 1., 0., 0.],\n",
       "       [0., 0., 0., 0., 1., 1., 1., 1., 1., 1., 0., 0., 0., 1., 1., 0.],\n",
       "       [0., 0., 0., 1., 1., 1., 1., 1., 0., 0., 0., 0., 1., 1., 1., 1.],\n",
       "       [0., 0., 0., 1., 1., 1., 1., 0., 1., 1., 1., 1., 1., 1., 1., 0.],\n",
       "       [0., 0., 0., 1., 1., 1., 0., 1., 1., 1., 1., 1., 0., 1., 1., 0.],\n",
       "       [0., 0., 1., 1., 1., 1., 1., 1., 1., 1., 0., 0., 0., 1., 1., 0.],\n",
       "       [0., 0., 1., 1., 1., 1., 1., 1., 0., 0., 0., 0., 1., 1., 0., 0.],\n",
       "       [0., 1., 1., 1., 1., 1., 1., 0., 0., 0., 0., 0., 1., 1., 0., 0.],\n",
       "       [0., 1., 1., 1., 1., 0., 0., 0., 0., 0., 0., 0., 1., 1., 0., 0.],\n",
       "       [0., 1., 1., 1., 0., 0., 0., 0., 0., 0., 1., 1., 1., 0., 0., 0.],\n",
       "       [1., 1., 1., 0., 0., 0., 0., 0., 0., 0., 1., 1., 0., 0., 0., 0.],\n",
       "       [1., 1., 1., 1., 0., 0., 0., 0., 1., 1., 1., 1., 0., 0., 0., 0.],\n",
       "       [1., 1., 1., 1., 0., 0., 0., 1., 1., 1., 0., 0., 0., 0., 0., 0.],\n",
       "       [1., 0., 1., 1., 1., 1., 1., 1., 1., 0., 0., 0., 0., 0., 0., 0.],\n",
       "       [0., 0., 0., 1., 1., 1., 1., 0., 0., 0., 0., 0., 0., 0., 0., 0.]])"
      ]
     },
     "execution_count": 6,
     "metadata": {},
     "output_type": "execute_result"
    }
   ],
   "source": [
    "# Matrix as a 16 by 16 for an individual element\n",
    "X[0].reshape((16,16))"
   ]
  },
  {
   "cell_type": "code",
   "execution_count": 7,
   "id": "vocal-contamination",
   "metadata": {},
   "outputs": [
    {
     "data": {
      "text/plain": [
       "<matplotlib.image.AxesImage at 0x7fdae2c38820>"
      ]
     },
     "execution_count": 7,
     "metadata": {},
     "output_type": "execute_result"
    },
    {
     "data": {
      "image/png": "[encoded data removed]",
      "text/plain": [
       "<Figure size 432x288 with 1 Axes>"
      ]
     },
     "metadata": {
      "needs_background": "light"
     },
     "output_type": "display_data"
    }
   ],
   "source": [
    "# Visualizing the 16x16 matrix as image\n",
    "plt.imshow(X[7].reshape((16,16)))"
   ]
  },
  {
   "cell_type": "code",
   "execution_count": 8,
   "id": "attended-martial",
   "metadata": {},
   "outputs": [],
   "source": [
    "# Data splits\n",
    "X_train, X_test, y_train, y_test = train_test_split(X, y, test_size = 0.3, random_state=2)"
   ]
  },
  {
   "cell_type": "code",
   "execution_count": 9,
   "id": "sharp-jefferson",
   "metadata": {},
   "outputs": [
    {
     "name": "stdout",
     "output_type": "stream",
     "text": [
      "Epoch 1/60\n",
      "25/25 - 2s - loss: 2.3220 - accuracy: 0.1218 - val_loss: 2.3047 - val_accuracy: 0.1045\n",
      "Epoch 2/60\n",
      "25/25 - 0s - loss: 2.0906 - accuracy: 0.2756 - val_loss: 1.9891 - val_accuracy: 0.3522\n",
      "Epoch 3/60\n",
      "25/25 - 0s - loss: 1.8367 - accuracy: 0.4731 - val_loss: 1.7527 - val_accuracy: 0.3672\n",
      "Epoch 4/60\n",
      "25/25 - 0s - loss: 1.6203 - accuracy: 0.5987 - val_loss: 1.4619 - val_accuracy: 0.7672\n",
      "Epoch 5/60\n",
      "25/25 - 0s - loss: 1.3862 - accuracy: 0.7551 - val_loss: 1.2855 - val_accuracy: 0.7045\n",
      "Epoch 6/60\n",
      "25/25 - 0s - loss: 1.2035 - accuracy: 0.7974 - val_loss: 1.1052 - val_accuracy: 0.7881\n",
      "Epoch 7/60\n",
      "25/25 - 0s - loss: 1.0446 - accuracy: 0.8205 - val_loss: 0.9434 - val_accuracy: 0.8507\n",
      "Epoch 8/60\n",
      "25/25 - 0s - loss: 0.9135 - accuracy: 0.8385 - val_loss: 0.8323 - val_accuracy: 0.8597\n",
      "Epoch 9/60\n",
      "25/25 - 0s - loss: 0.8183 - accuracy: 0.8526 - val_loss: 0.7380 - val_accuracy: 0.8716\n",
      "Epoch 10/60\n",
      "25/25 - 0s - loss: 0.7350 - accuracy: 0.8615 - val_loss: 0.6626 - val_accuracy: 0.8866\n",
      "Epoch 11/60\n",
      "25/25 - 0s - loss: 0.6717 - accuracy: 0.8603 - val_loss: 0.6031 - val_accuracy: 0.9164\n",
      "Epoch 12/60\n",
      "25/25 - 0s - loss: 0.6157 - accuracy: 0.8744 - val_loss: 0.5425 - val_accuracy: 0.9015\n",
      "Epoch 13/60\n",
      "25/25 - 0s - loss: 0.5641 - accuracy: 0.8897 - val_loss: 0.5057 - val_accuracy: 0.9134\n",
      "Epoch 14/60\n",
      "25/25 - 0s - loss: 0.5223 - accuracy: 0.8821 - val_loss: 0.4671 - val_accuracy: 0.9075\n",
      "Epoch 15/60\n",
      "25/25 - 0s - loss: 0.4869 - accuracy: 0.8897 - val_loss: 0.4391 - val_accuracy: 0.9194\n",
      "Epoch 16/60\n",
      "25/25 - 0s - loss: 0.4586 - accuracy: 0.9026 - val_loss: 0.4207 - val_accuracy: 0.9254\n",
      "Epoch 17/60\n",
      "25/25 - 0s - loss: 0.4292 - accuracy: 0.9051 - val_loss: 0.3940 - val_accuracy: 0.9343\n",
      "Epoch 18/60\n",
      "25/25 - 0s - loss: 0.4052 - accuracy: 0.9128 - val_loss: 0.3813 - val_accuracy: 0.9284\n",
      "Epoch 19/60\n",
      "25/25 - 0s - loss: 0.3839 - accuracy: 0.9244 - val_loss: 0.3552 - val_accuracy: 0.9284\n",
      "Epoch 20/60\n",
      "25/25 - 0s - loss: 0.3622 - accuracy: 0.9256 - val_loss: 0.3409 - val_accuracy: 0.9313\n",
      "Epoch 21/60\n",
      "25/25 - 0s - loss: 0.3415 - accuracy: 0.9308 - val_loss: 0.3359 - val_accuracy: 0.9343\n",
      "Epoch 22/60\n",
      "25/25 - 0s - loss: 0.3281 - accuracy: 0.9346 - val_loss: 0.3141 - val_accuracy: 0.9343\n",
      "Epoch 23/60\n",
      "25/25 - 0s - loss: 0.3113 - accuracy: 0.9410 - val_loss: 0.3036 - val_accuracy: 0.9313\n",
      "Epoch 24/60\n",
      "25/25 - 0s - loss: 0.2969 - accuracy: 0.9410 - val_loss: 0.2986 - val_accuracy: 0.9343\n",
      "Epoch 25/60\n",
      "25/25 - 0s - loss: 0.2836 - accuracy: 0.9513 - val_loss: 0.2816 - val_accuracy: 0.9403\n",
      "Epoch 26/60\n",
      "25/25 - 0s - loss: 0.2720 - accuracy: 0.9474 - val_loss: 0.2756 - val_accuracy: 0.9463\n",
      "Epoch 27/60\n",
      "25/25 - 0s - loss: 0.2625 - accuracy: 0.9500 - val_loss: 0.2749 - val_accuracy: 0.9284\n",
      "Epoch 28/60\n",
      "25/25 - 0s - loss: 0.2503 - accuracy: 0.9577 - val_loss: 0.2616 - val_accuracy: 0.9552\n",
      "Epoch 29/60\n",
      "25/25 - 0s - loss: 0.2402 - accuracy: 0.9615 - val_loss: 0.2617 - val_accuracy: 0.9373\n",
      "Epoch 30/60\n",
      "25/25 - 0s - loss: 0.2325 - accuracy: 0.9628 - val_loss: 0.2477 - val_accuracy: 0.9552\n",
      "Epoch 31/60\n",
      "25/25 - 0s - loss: 0.2227 - accuracy: 0.9615 - val_loss: 0.2428 - val_accuracy: 0.9463\n",
      "Epoch 32/60\n",
      "25/25 - 0s - loss: 0.2144 - accuracy: 0.9641 - val_loss: 0.2381 - val_accuracy: 0.9582\n",
      "Epoch 33/60\n",
      "25/25 - 0s - loss: 0.2073 - accuracy: 0.9641 - val_loss: 0.2374 - val_accuracy: 0.9433\n",
      "Epoch 34/60\n",
      "25/25 - 0s - loss: 0.1999 - accuracy: 0.9667 - val_loss: 0.2295 - val_accuracy: 0.9522\n",
      "Epoch 35/60\n",
      "25/25 - 0s - loss: 0.1933 - accuracy: 0.9679 - val_loss: 0.2258 - val_accuracy: 0.9463\n",
      "Epoch 36/60\n",
      "25/25 - 0s - loss: 0.1863 - accuracy: 0.9718 - val_loss: 0.2231 - val_accuracy: 0.9493\n",
      "Epoch 37/60\n",
      "25/25 - 0s - loss: 0.1795 - accuracy: 0.9731 - val_loss: 0.2260 - val_accuracy: 0.9403\n",
      "Epoch 38/60\n",
      "25/25 - 0s - loss: 0.1741 - accuracy: 0.9769 - val_loss: 0.2135 - val_accuracy: 0.9552\n",
      "Epoch 39/60\n",
      "25/25 - 0s - loss: 0.1690 - accuracy: 0.9731 - val_loss: 0.2127 - val_accuracy: 0.9493\n",
      "Epoch 40/60\n",
      "25/25 - 0s - loss: 0.1623 - accuracy: 0.9756 - val_loss: 0.2139 - val_accuracy: 0.9463\n",
      "Epoch 41/60\n",
      "25/25 - 0s - loss: 0.1580 - accuracy: 0.9756 - val_loss: 0.2072 - val_accuracy: 0.9463\n",
      "Epoch 42/60\n",
      "25/25 - 0s - loss: 0.1526 - accuracy: 0.9808 - val_loss: 0.2056 - val_accuracy: 0.9493\n",
      "Epoch 43/60\n",
      "25/25 - 0s - loss: 0.1484 - accuracy: 0.9833 - val_loss: 0.2043 - val_accuracy: 0.9463\n",
      "Epoch 44/60\n",
      "25/25 - 0s - loss: 0.1445 - accuracy: 0.9846 - val_loss: 0.1995 - val_accuracy: 0.9552\n",
      "Epoch 45/60\n",
      "25/25 - 0s - loss: 0.1398 - accuracy: 0.9846 - val_loss: 0.1954 - val_accuracy: 0.9612\n",
      "Epoch 46/60\n",
      "25/25 - 0s - loss: 0.1352 - accuracy: 0.9872 - val_loss: 0.1945 - val_accuracy: 0.9582\n",
      "Epoch 47/60\n",
      "25/25 - 0s - loss: 0.1322 - accuracy: 0.9872 - val_loss: 0.1939 - val_accuracy: 0.9522\n",
      "Epoch 48/60\n",
      "25/25 - 0s - loss: 0.1292 - accuracy: 0.9859 - val_loss: 0.1930 - val_accuracy: 0.9522\n",
      "Epoch 49/60\n",
      "25/25 - 0s - loss: 0.1255 - accuracy: 0.9872 - val_loss: 0.1908 - val_accuracy: 0.9522\n",
      "Epoch 50/60\n",
      "25/25 - 0s - loss: 0.1213 - accuracy: 0.9936 - val_loss: 0.1876 - val_accuracy: 0.9522\n",
      "Epoch 51/60\n",
      "25/25 - 0s - loss: 0.1179 - accuracy: 0.9923 - val_loss: 0.1862 - val_accuracy: 0.9582\n",
      "Epoch 52/60\n",
      "25/25 - 0s - loss: 0.1150 - accuracy: 0.9936 - val_loss: 0.1864 - val_accuracy: 0.9522\n",
      "Epoch 53/60\n",
      "25/25 - 0s - loss: 0.1121 - accuracy: 0.9949 - val_loss: 0.1858 - val_accuracy: 0.9522\n",
      "Epoch 54/60\n",
      "25/25 - 0s - loss: 0.1092 - accuracy: 0.9962 - val_loss: 0.1836 - val_accuracy: 0.9493\n",
      "Epoch 55/60\n",
      "25/25 - 0s - loss: 0.1061 - accuracy: 0.9962 - val_loss: 0.1812 - val_accuracy: 0.9552\n",
      "Epoch 56/60\n",
      "25/25 - 0s - loss: 0.1034 - accuracy: 0.9962 - val_loss: 0.1796 - val_accuracy: 0.9552\n",
      "Epoch 57/60\n",
      "25/25 - 0s - loss: 0.1010 - accuracy: 0.9974 - val_loss: 0.1795 - val_accuracy: 0.9582\n",
      "Epoch 58/60\n",
      "25/25 - 0s - loss: 0.0983 - accuracy: 0.9974 - val_loss: 0.1767 - val_accuracy: 0.9522\n",
      "Epoch 59/60\n",
      "25/25 - 0s - loss: 0.0965 - accuracy: 0.9974 - val_loss: 0.1788 - val_accuracy: 0.9493\n",
      "Epoch 60/60\n",
      "25/25 - 0s - loss: 0.0935 - accuracy: 0.9974 - val_loss: 0.1776 - val_accuracy: 0.9493\n",
      "15/15 [==============================] - 0s 2ms/step - loss: 0.3067 - accuracy: 0.9142\n",
      "Test accuracy: 0.9142259359359741\n",
      "Test loss: 0.3067063093185425\n"
     ]
    }
   ],
   "source": [
    "# Simple sequential model\n",
    "model = Sequential()\n",
    "model.add(Dense(100, activation='sigmoid', input_shape = (X.shape[1],), use_bias=True, bias_initializer='ones'))\n",
    "model.add(Dense(y.shape[1], activation='sigmoid', use_bias=True, bias_initializer='ones'))\n",
    "my_optimizer = SGD(lr=0.1)\n",
    "model.compile(optimizer=my_optimizer, loss='categorical_crossentropy', metrics=['accuracy'])\n",
    "\n",
    "early_stopping_monitor = EarlyStopping(patience=2)\n",
    "\n",
    "history = model.fit(X_train, y_train, validation_split=0.3, epochs=60, verbose=2, callbacks=[early_stopping_monitor])\n",
    "history\n",
    "\n",
    "score = model.evaluate(X_test, y_test)\n",
    "print('Test accuracy:', score[1])\n",
    "print('Test loss:', score[0])\n",
    "\n",
    "y_pred = model.predict(X_test)"
   ]
  },
  {
   "cell_type": "code",
   "execution_count": 10,
   "id": "associate-excitement",
   "metadata": {},
   "outputs": [
    {
     "data": {
      "text/plain": [
       "array([7, 3, 9, 4, 1, 0, 8, 4, 6, 7, 3, 4, 1, 3, 4, 3, 6, 3, 2, 9, 4, 5,\n",
       "       7, 3, 7, 3, 3, 8, 9, 2, 5, 6, 8, 2, 6, 0, 4, 3, 5, 6, 0, 1, 4, 9,\n",
       "       1, 2, 7, 2, 7, 4, 8, 2, 9, 4, 7, 9, 1, 6, 0, 1, 0, 0, 6, 9, 4, 1,\n",
       "       3, 0, 8, 3, 7, 5, 4, 2, 0, 0, 4, 4, 1, 7, 4, 0, 2, 6, 2, 7, 2, 3,\n",
       "       5, 2, 7, 3, 2, 3, 2, 0, 0, 9, 7, 2, 0, 4, 3, 9, 6, 9, 1, 4, 9, 4,\n",
       "       8, 7, 0, 8, 9, 9, 9, 3, 8, 4, 1, 4, 8, 3, 0, 3, 7, 3, 2, 6, 3, 5,\n",
       "       8, 5, 3, 9, 6, 1, 9, 0, 0, 0, 7, 9, 3, 2, 9, 9, 2, 6, 7, 3, 2, 1,\n",
       "       3, 2, 3, 0, 0, 5, 9, 8, 5, 4, 0, 1, 1, 1, 5, 7, 5, 7, 2, 6, 1, 8,\n",
       "       3, 9, 6, 4, 3, 9, 7, 0, 6, 2, 9, 3, 1, 2, 4, 5, 5, 1, 3, 8, 0, 0,\n",
       "       6, 7, 9, 7, 2, 0, 8, 2, 6, 7, 7, 2, 3, 4, 3, 5, 2, 6, 5, 0, 3, 0,\n",
       "       5, 0, 2, 4, 7, 2, 5, 0, 9, 5, 4, 9, 4, 3, 1, 6, 3, 9, 4, 3, 8, 8,\n",
       "       1, 7, 9, 3, 3, 2, 6, 0, 5, 0, 7, 8, 5, 0, 4, 3, 8, 0, 8, 2, 5, 9,\n",
       "       9, 3, 3, 3, 0, 1, 3, 6, 2, 5, 7, 8, 9, 3, 0, 6, 9, 1, 9, 0, 8, 0,\n",
       "       3, 3, 3, 5, 4, 8, 7, 3, 1, 9, 6, 3, 2, 8, 5, 4, 2, 2, 5, 4, 9, 9,\n",
       "       1, 4, 5, 9, 5, 5, 1, 4, 4, 8, 2, 6, 9, 5, 1, 1, 0, 4, 9, 1, 1, 7,\n",
       "       1, 8, 5, 0, 1, 0, 8, 6, 8, 4, 4, 2, 0, 3, 8, 4, 0, 1, 3, 1, 6, 1,\n",
       "       2, 5, 6, 0, 1, 1, 2, 9, 0, 7, 2, 3, 5, 4, 7, 9, 1, 2, 2, 9, 2, 5,\n",
       "       4, 3, 9, 5, 1, 6, 6, 4, 9, 4, 0, 7, 5, 6, 4, 1, 1, 9, 0, 2, 0, 0,\n",
       "       7, 9, 7, 8, 2, 1, 7, 7, 9, 8, 3, 2, 1, 3, 8, 9, 8, 9, 3, 6, 4, 3,\n",
       "       0, 3, 6, 9, 9, 5, 0, 4, 4, 9, 6, 9, 3, 8, 7, 9, 6, 8, 0, 2, 1, 3,\n",
       "       9, 5, 3, 3, 6, 5, 6, 0, 3, 8, 6, 8, 5, 5, 9, 9, 5, 4, 9, 8, 0, 8,\n",
       "       3, 5, 0, 6, 2, 8, 5, 7, 1, 2, 7, 7, 6, 7, 5, 0])"
      ]
     },
     "execution_count": 10,
     "metadata": {},
     "output_type": "execute_result"
    }
   ],
   "source": [
    "y_predl = model.predict(X_test)\n",
    "predl = np.argmax(y_predl, axis = 1)\n",
    "predl"
   ]
  },
  {
   "cell_type": "code",
   "execution_count": 33,
   "id": "impressed-bicycle",
   "metadata": {},
   "outputs": [
    {
     "data": {
      "image/png": "[encoded data removed]",
      "text/plain": [
       "<Figure size 432x288 with 1 Axes>"
      ]
     },
     "metadata": {
      "needs_background": "light"
     },
     "output_type": "display_data"
    },
    {
     "data": {
      "image/png": "[encoded data removed]",
      "text/plain": [
       "<Figure size 432x288 with 1 Axes>"
      ]
     },
     "metadata": {
      "needs_background": "light"
     },
     "output_type": "display_data"
    }
   ],
   "source": [
    "def plot_history(history):\n",
    "    # Plot training & validation accuracy values\n",
    "    plt.plot(history.history['accuracy'])\n",
    "    plt.plot(history.history['val_accuracy'])\n",
    "    plt.title('Model accuracy')\n",
    "    plt.ylabel('Accuracy')\n",
    "    plt.xlabel('Epoch')\n",
    "    plt.legend(['Train', 'Val'], loc='upper left')\n",
    "    plt.savefig(\"Accuracy.png\")\n",
    "    plt.show()\n",
    "\n",
    "    # Plot training & validation loss values\n",
    "    plt.plot(history.history['loss'])\n",
    "    plt.plot(history.history['val_loss'])\n",
    "    plt.title('Model loss')\n",
    "    plt.ylabel('Loss')\n",
    "    plt.xlabel('Epoch')\n",
    "    plt.legend(['Train', 'Val'], loc='upper left')\n",
    "    plt.savefig(\"Loss.png\")\n",
    "    plt.show()\n",
    "    \n",
    "plot_history(history)"
   ]
  },
  {
   "cell_type": "code",
   "execution_count": 14,
   "id": "sacred-shock",
   "metadata": {},
   "outputs": [
    {
     "name": "stdout",
     "output_type": "stream",
     "text": [
      "Epoch 1/60\n",
      "25/25 - 1s - loss: 2.3418 - accuracy: 0.1949 - val_loss: 1.9065 - val_accuracy: 0.3582\n",
      "Epoch 2/60\n",
      "25/25 - 0s - loss: 1.7305 - accuracy: 0.3564 - val_loss: 1.4847 - val_accuracy: 0.4149\n",
      "Epoch 3/60\n",
      "25/25 - 0s - loss: 1.3747 - accuracy: 0.4679 - val_loss: 1.1307 - val_accuracy: 0.5851\n",
      "Epoch 4/60\n",
      "25/25 - 0s - loss: 1.0406 - accuracy: 0.6090 - val_loss: 0.8263 - val_accuracy: 0.7343\n",
      "Epoch 5/60\n",
      "25/25 - 0s - loss: 0.6978 - accuracy: 0.8269 - val_loss: 0.5315 - val_accuracy: 0.8806\n",
      "Epoch 6/60\n",
      "25/25 - 0s - loss: 0.4415 - accuracy: 0.9026 - val_loss: 0.3793 - val_accuracy: 0.8955\n",
      "Epoch 7/60\n",
      "25/25 - 0s - loss: 0.3158 - accuracy: 0.9154 - val_loss: 0.3200 - val_accuracy: 0.9254\n",
      "Epoch 8/60\n",
      "25/25 - 0s - loss: 0.2129 - accuracy: 0.9513 - val_loss: 0.2782 - val_accuracy: 0.9224\n",
      "Epoch 9/60\n",
      "25/25 - 0s - loss: 0.1508 - accuracy: 0.9744 - val_loss: 0.2342 - val_accuracy: 0.9343\n",
      "Epoch 10/60\n",
      "25/25 - 0s - loss: 0.1084 - accuracy: 0.9846 - val_loss: 0.2337 - val_accuracy: 0.9343\n",
      "Epoch 11/60\n",
      "25/25 - 0s - loss: 0.0803 - accuracy: 0.9885 - val_loss: 0.2074 - val_accuracy: 0.9373\n",
      "Epoch 12/60\n",
      "25/25 - 0s - loss: 0.0624 - accuracy: 0.9949 - val_loss: 0.2050 - val_accuracy: 0.9343\n",
      "Epoch 13/60\n",
      "25/25 - 0s - loss: 0.0476 - accuracy: 0.9974 - val_loss: 0.1926 - val_accuracy: 0.9403\n",
      "Epoch 14/60\n",
      "25/25 - 0s - loss: 0.0350 - accuracy: 1.0000 - val_loss: 0.1841 - val_accuracy: 0.9433\n",
      "Epoch 15/60\n",
      "25/25 - 0s - loss: 0.0283 - accuracy: 1.0000 - val_loss: 0.1838 - val_accuracy: 0.9433\n",
      "Epoch 16/60\n",
      "25/25 - 0s - loss: 0.0226 - accuracy: 1.0000 - val_loss: 0.1798 - val_accuracy: 0.9433\n",
      "Epoch 17/60\n",
      "25/25 - 0s - loss: 0.0184 - accuracy: 1.0000 - val_loss: 0.1834 - val_accuracy: 0.9433\n",
      "Epoch 18/60\n",
      "25/25 - 0s - loss: 0.0144 - accuracy: 1.0000 - val_loss: 0.1764 - val_accuracy: 0.9433\n",
      "Epoch 19/60\n",
      "25/25 - 0s - loss: 0.0125 - accuracy: 1.0000 - val_loss: 0.1795 - val_accuracy: 0.9433\n",
      "Epoch 20/60\n",
      "25/25 - 0s - loss: 0.0110 - accuracy: 1.0000 - val_loss: 0.1785 - val_accuracy: 0.9433\n",
      "15/15 [==============================] - 0s 2ms/step - loss: 0.4293 - accuracy: 0.8745\n",
      "Test accuracy: 0.874476969242096\n",
      "Test loss: 0.42928725481033325\n"
     ]
    }
   ],
   "source": [
    "#Layered sequential model\n",
    "model = Sequential()\n",
    "model.add(Dense(128, activation='relu', input_shape = (X.shape[1],), use_bias=True, bias_initializer='ones'))\n",
    "model.add(Dense(64, activation='relu', use_bias=True, bias_initializer='ones'))\n",
    "model.add(Dense(32, activation='relu', use_bias=True, bias_initializer='ones'))\n",
    "model.add(Dense(16, activation='relu', use_bias=True, bias_initializer='ones'))        \n",
    "model.add(Dense(y.shape[1], activation='sigmoid', use_bias=True, bias_initializer='ones'))\n",
    "\n",
    "my_optimizer = SGD(lr=0.1)\n",
    "model.compile(optimizer='adam', loss='categorical_crossentropy', metrics=['accuracy'])\n",
    "early_stopping_monitor = EarlyStopping(patience=2)\n",
    "\n",
    "history = model.fit(X_train, y_train, validation_split=0.3, epochs=60, verbose=2, callbacks=[early_stopping_monitor])\n",
    "history\n",
    "\n",
    "score = model.evaluate(X_test, y_test)\n",
    "print('Test accuracy:', score[1])\n",
    "print('Test loss:', score[0])\n",
    "\n",
    "y_pred = model.predict(X_test)"
   ]
  },
  {
   "cell_type": "code",
   "execution_count": 34,
   "id": "criminal-robertson",
   "metadata": {},
   "outputs": [
    {
     "data": {
      "image/png": "[encoded data removed]",
      "text/plain": [
       "<Figure size 432x288 with 1 Axes>"
      ]
     },
     "metadata": {
      "needs_background": "light"
     },
     "output_type": "display_data"
    },
    {
     "data": {
      "image/png": "[encoded data removed]",
      "text/plain": [
       "<Figure size 432x288 with 1 Axes>"
      ]
     },
     "metadata": {
      "needs_background": "light"
     },
     "output_type": "display_data"
    }
   ],
   "source": [
    "plot_history(history)"
   ]
  },
  {
   "cell_type": "code",
   "execution_count": 16,
   "id": "checked-summer",
   "metadata": {},
   "outputs": [],
   "source": [
    "from keras.layers import Dense, Dropout, Flatten\n",
    "from keras.layers.advanced_activations import LeakyReLU\n",
    "from keras.layers import Conv2D, MaxPooling2D"
   ]
  },
  {
   "cell_type": "code",
   "execution_count": 17,
   "id": "gorgeous-mills",
   "metadata": {},
   "outputs": [],
   "source": [
    "train_X, test_X, train_y, test_y = train_test_split(np.array(X).reshape((1593,16,16,-1)),\\\n",
    "                                                    np.array(y).reshape((1593,10)) ,test_size = 0.3, random_state=555,\\\n",
    "                                                   stratify=np.array(y).reshape((1593,10)))"
   ]
  },
  {
   "cell_type": "code",
   "execution_count": 18,
   "id": "creative-optimization",
   "metadata": {},
   "outputs": [
    {
     "name": "stdout",
     "output_type": "stream",
     "text": [
      "Model: \"sequential_3\"\n",
      "_________________________________________________________________\n",
      "Layer (type)                 Output Shape              Param #   \n",
      "=================================================================\n",
      "conv2d (Conv2D)              (None, 16, 16, 16)        160       \n",
      "_________________________________________________________________\n",
      "max_pooling2d (MaxPooling2D) (None, 8, 8, 16)          0         \n",
      "_________________________________________________________________\n",
      "conv2d_1 (Conv2D)            (None, 8, 8, 32)          4640      \n",
      "_________________________________________________________________\n",
      "max_pooling2d_1 (MaxPooling2 (None, 4, 4, 32)          0         \n",
      "_________________________________________________________________\n",
      "flatten (Flatten)            (None, 512)               0         \n",
      "_________________________________________________________________\n",
      "dense_12 (Dense)             (None, 256)               131328    \n",
      "_________________________________________________________________\n",
      "dropout (Dropout)            (None, 256)               0         \n",
      "_________________________________________________________________\n",
      "dense_13 (Dense)             (None, 10)                2570      \n",
      "=================================================================\n",
      "Total params: 138,698\n",
      "Trainable params: 138,698\n",
      "Non-trainable params: 0\n",
      "_________________________________________________________________\n"
     ]
    }
   ],
   "source": [
    "#CNN\n",
    "model = Sequential()\n",
    "model.add(Conv2D(16, input_shape=(16, 16, 1),kernel_size=(3, 3), padding='same', activation='relu'))\n",
    "model.add(MaxPooling2D(pool_size=(2, 2)))\n",
    "model.add(Conv2D(32, kernel_size=(3, 3), activation='relu', padding='same'))\n",
    "model.add(MaxPooling2D(pool_size=(2, 2)))\n",
    "model.add(Flatten())\n",
    "model.add(Dense(256, activation='relu' ))\n",
    "model.add(Dropout(0.25))\n",
    "model.add(Dense(10, activation='softmax'))\n",
    "my_optimizer = SGD(lr=0.1) #optimizer='adam'\n",
    "model.compile(optimizer='Nadam', loss='categorical_crossentropy', metrics=['accuracy']) #Nadam is a more stable optimizer\n",
    "model.summary()"
   ]
  },
  {
   "cell_type": "code",
   "execution_count": 19,
   "id": "expressed-anchor",
   "metadata": {},
   "outputs": [
    {
     "name": "stdout",
     "output_type": "stream",
     "text": [
      "Epoch 1/20\n",
      "7/7 [==============================] - 2s 68ms/step - loss: 2.2702 - accuracy: 0.1557 - val_loss: 2.0693 - val_accuracy: 0.4418\n",
      "Epoch 2/20\n",
      "7/7 [==============================] - 0s 35ms/step - loss: 1.9791 - accuracy: 0.4990 - val_loss: 1.6594 - val_accuracy: 0.5463\n",
      "Epoch 3/20\n",
      "7/7 [==============================] - 0s 36ms/step - loss: 1.5064 - accuracy: 0.6302 - val_loss: 1.1533 - val_accuracy: 0.6716\n",
      "Epoch 4/20\n",
      "7/7 [==============================] - 0s 35ms/step - loss: 0.9990 - accuracy: 0.7076 - val_loss: 0.7337 - val_accuracy: 0.7940\n",
      "Epoch 5/20\n",
      "7/7 [==============================] - 0s 36ms/step - loss: 0.6718 - accuracy: 0.8059 - val_loss: 0.6224 - val_accuracy: 0.8090\n",
      "Epoch 6/20\n",
      "7/7 [==============================] - 0s 36ms/step - loss: 0.5261 - accuracy: 0.8259 - val_loss: 0.4301 - val_accuracy: 0.8716\n",
      "Epoch 7/20\n",
      "7/7 [==============================] - 0s 36ms/step - loss: 0.3968 - accuracy: 0.8778 - val_loss: 0.4762 - val_accuracy: 0.8478\n",
      "Epoch 8/20\n",
      "7/7 [==============================] - 0s 35ms/step - loss: 0.3477 - accuracy: 0.8821 - val_loss: 0.3618 - val_accuracy: 0.8955\n",
      "Epoch 9/20\n",
      "7/7 [==============================] - 0s 35ms/step - loss: 0.2973 - accuracy: 0.9114 - val_loss: 0.3662 - val_accuracy: 0.8925\n",
      "Epoch 10/20\n",
      "7/7 [==============================] - 0s 38ms/step - loss: 0.2451 - accuracy: 0.9233 - val_loss: 0.2974 - val_accuracy: 0.9045\n",
      "Epoch 11/20\n",
      "7/7 [==============================] - 0s 37ms/step - loss: 0.2086 - accuracy: 0.9441 - val_loss: 0.2947 - val_accuracy: 0.9104\n",
      "Epoch 12/20\n",
      "7/7 [==============================] - 0s 37ms/step - loss: 0.1891 - accuracy: 0.9396 - val_loss: 0.2850 - val_accuracy: 0.9075\n",
      "Epoch 13/20\n",
      "7/7 [==============================] - 0s 36ms/step - loss: 0.1798 - accuracy: 0.9476 - val_loss: 0.2922 - val_accuracy: 0.9015\n",
      "Epoch 14/20\n",
      "7/7 [==============================] - 0s 36ms/step - loss: 0.1670 - accuracy: 0.9480 - val_loss: 0.2629 - val_accuracy: 0.9075\n",
      "Epoch 15/20\n",
      "7/7 [==============================] - 0s 37ms/step - loss: 0.1429 - accuracy: 0.9661 - val_loss: 0.2515 - val_accuracy: 0.9194\n",
      "Epoch 16/20\n",
      "7/7 [==============================] - 0s 39ms/step - loss: 0.1159 - accuracy: 0.9786 - val_loss: 0.2457 - val_accuracy: 0.9164\n",
      "Epoch 17/20\n",
      "7/7 [==============================] - 0s 36ms/step - loss: 0.1123 - accuracy: 0.9643 - val_loss: 0.2396 - val_accuracy: 0.9164\n",
      "Epoch 18/20\n",
      "7/7 [==============================] - 0s 36ms/step - loss: 0.0935 - accuracy: 0.9743 - val_loss: 0.2345 - val_accuracy: 0.9164\n",
      "Epoch 19/20\n",
      "7/7 [==============================] - 0s 37ms/step - loss: 0.0886 - accuracy: 0.9699 - val_loss: 0.2705 - val_accuracy: 0.9104\n",
      "Epoch 20/20\n",
      "7/7 [==============================] - 0s 36ms/step - loss: 0.0886 - accuracy: 0.9714 - val_loss: 0.2316 - val_accuracy: 0.9224\n"
     ]
    }
   ],
   "source": [
    "#train_X, test_X, train_y, test_y\n",
    "history = model.fit(train_X, train_y, epochs=20, batch_size=128, validation_split=0.3, shuffle=False)"
   ]
  },
  {
   "cell_type": "code",
   "execution_count": 20,
   "id": "complete-decimal",
   "metadata": {},
   "outputs": [
    {
     "name": "stdout",
     "output_type": "stream",
     "text": [
      "15/15 [==============================] - 0s 6ms/step - loss: 0.1834 - accuracy: 0.9477\n",
      "Test accuracy: 0.9476987719535828\n",
      "Test loss: 0.18335029482841492\n"
     ]
    }
   ],
   "source": [
    "score = model.evaluate(test_X, test_y)\n",
    "print('Test accuracy:', score[1])\n",
    "print('Test loss:', score[0]) "
   ]
  },
  {
   "cell_type": "code",
   "execution_count": 35,
   "id": "noticed-output",
   "metadata": {},
   "outputs": [
    {
     "data": {
      "image/png": "[encoded data removed]",
      "text/plain": [
       "<Figure size 432x288 with 1 Axes>"
      ]
     },
     "metadata": {
      "needs_background": "light"
     },
     "output_type": "display_data"
    },
    {
     "data": {
      "image/png": "[encoded data removed]",
      "text/plain": [
       "<Figure size 432x288 with 1 Axes>"
      ]
     },
     "metadata": {
      "needs_background": "light"
     },
     "output_type": "display_data"
    }
   ],
   "source": [
    "plot_history(history)"
   ]
  },
  {
   "cell_type": "code",
   "execution_count": 36,
   "id": "stuck-hardware",
   "metadata": {},
   "outputs": [],
   "source": [
    "y_pred = model.predict(test_X)"
   ]
  },
  {
   "cell_type": "code",
   "execution_count": 37,
   "id": "square-atlantic",
   "metadata": {},
   "outputs": [],
   "source": [
    "preds = np.argmax(y_pred, axis = 1)"
   ]
  },
  {
   "cell_type": "code",
   "execution_count": 38,
   "id": "deluxe-homework",
   "metadata": {},
   "outputs": [
    {
     "data": {
      "text/plain": [
       "array([4, 1, 5, 7, 1, 6, 1, 5, 7, 1, 3, 7, 4, 0, 8, 4, 5, 8, 7, 9, 4, 3,\n",
       "       5, 1, 6, 0, 0, 2, 9, 4, 6, 0, 9, 5, 0, 8, 1, 8, 8, 8, 7, 0, 5, 6,\n",
       "       0, 3, 4, 0, 4, 3, 4, 9, 7, 2, 3, 8, 8, 5, 8, 4, 4, 6, 1, 8, 0, 0,\n",
       "       9, 1, 6, 8, 6, 3, 3, 2, 1, 6, 9, 6, 0, 8, 5, 1, 2, 9, 0, 3, 5, 7,\n",
       "       1, 1, 3, 6, 0, 9, 2, 6, 6, 8, 2, 1, 1, 6, 4, 1, 4, 3, 6, 5, 6, 3,\n",
       "       3, 3, 0, 0, 1, 9, 9, 5, 4, 7, 2, 6, 9, 2, 0, 1, 4, 5, 3, 6, 1, 9,\n",
       "       6, 4, 9, 9, 5, 5, 9, 8, 6, 4, 3, 4, 5, 0, 1, 9, 4, 9, 2, 8, 2, 0,\n",
       "       8, 2, 7, 5, 2, 6, 0, 8, 4, 5, 7, 1, 3, 7, 6, 8, 0, 5, 9, 8, 3, 1,\n",
       "       0, 7, 2, 4, 1, 1, 4, 6, 9, 9, 0, 0, 0, 5, 9, 4, 3, 1, 5, 9, 4, 7,\n",
       "       6, 0, 2, 0, 0, 4, 1, 7, 8, 4, 3, 5, 5, 2, 0, 7, 8, 5, 6, 1, 2, 7,\n",
       "       1, 6, 2, 1, 1, 5, 9, 7, 2, 9, 2, 6, 0, 5, 3, 6, 1, 8, 2, 3, 3, 3,\n",
       "       4, 0, 4, 4, 9, 0, 1, 1, 5, 6, 5, 4, 6, 4, 7, 9, 3, 4, 8, 1, 3, 6,\n",
       "       5, 9, 0, 3, 8, 8, 5, 1, 9, 9, 9, 4, 4, 1, 2, 7, 0, 1, 6, 4, 0, 3,\n",
       "       1, 7, 5, 6, 1, 1, 0, 1, 2, 2, 1, 8, 7, 3, 1, 9, 7, 5, 3, 0, 8, 2,\n",
       "       8, 0, 5, 9, 8, 9, 4, 4, 9, 6, 5, 2, 2, 1, 4, 2, 8, 4, 2, 8, 7, 3,\n",
       "       7, 4, 0, 4, 7, 8, 1, 5, 2, 2, 7, 9, 7, 3, 2, 8, 3, 7, 9, 3, 2, 2,\n",
       "       6, 7, 1, 5, 0, 4, 4, 0, 1, 3, 2, 9, 1, 9, 3, 5, 5, 6, 2, 4, 6, 4,\n",
       "       5, 1, 1, 1, 9, 5, 4, 1, 6, 0, 1, 6, 8, 1, 6, 8, 3, 9, 6, 8, 8, 9,\n",
       "       5, 7, 2, 5, 5, 5, 2, 3, 8, 3, 8, 9, 7, 2, 2, 1, 0, 7, 0, 6, 7, 7,\n",
       "       3, 6, 6, 7, 2, 6, 8, 6, 9, 7, 7, 4, 2, 5, 2, 5, 0, 5, 6, 8, 5, 0,\n",
       "       3, 7, 7, 2, 2, 7, 8, 3, 7, 3, 0, 2, 5, 5, 7, 4, 9, 9, 8, 4, 9, 9,\n",
       "       3, 5, 3, 9, 8, 7, 0, 7, 6, 4, 2, 5, 8, 7, 5, 5])"
      ]
     },
     "execution_count": 38,
     "metadata": {},
     "output_type": "execute_result"
    }
   ],
   "source": [
    "preds"
   ]
  },
  {
   "cell_type": "code",
   "execution_count": 39,
   "id": "durable-latter",
   "metadata": {},
   "outputs": [],
   "source": [
    "#Filtering the data for only 2 classes \n",
    "Y_cat = np.argmax(y,axis=1)\n",
    "X_a = X[np.logical_or(Y_cat==3 , Y_cat==4)]\n",
    "Y_a = y[np.logical_or(Y_cat==3 , Y_cat==4)]\n",
    "X_train, X_test, y_train, y_test = train_test_split(X_a, Y_a, test_size = 0.3, random_state=2)"
   ]
  },
  {
   "cell_type": "markdown",
   "id": "serious-transfer",
   "metadata": {},
   "source": [
    "### Auto Encoders"
   ]
  },
  {
   "cell_type": "code",
   "execution_count": 42,
   "id": "steady-austria",
   "metadata": {},
   "outputs": [],
   "source": [
    "import keras\n",
    "from keras import layers\n",
    "\n",
    "encoding_dim = 900\n",
    "input_img = keras.Input(shape=(256,))\n",
    "encoded = layers.Dense(encoding_dim, activation='relu')(input_img)\n",
    "encoded = layers.Dense(900, activation='relu')(encoded)\n",
    "decoded = layers.Dense(256, activation='sigmoid')(encoded)\n",
    "autoencoder = keras.Model(input_img, decoded)\n",
    "encoder = keras.Model(input_img, encoded)"
   ]
  },
  {
   "cell_type": "code",
   "execution_count": 43,
   "id": "independent-feeding",
   "metadata": {},
   "outputs": [],
   "source": [
    "# This is our encod\n",
    "encoded_input = keras.Input(shape=(encoding_dim,))\n",
    "# Retrieve the last layer of the autoencoder model\n",
    "decoder_layer = autoencoder.layers[-1]\n",
    "# Create the decoder model\n",
    "decoder = keras.Model(encoded_input, decoder_layer(encoded_input))"
   ]
  },
  {
   "cell_type": "code",
   "execution_count": 44,
   "id": "international-disposal",
   "metadata": {},
   "outputs": [],
   "source": [
    "autoencoder.compile(optimizer='adam', loss='binary_crossentropy')"
   ]
  },
  {
   "cell_type": "code",
   "execution_count": 45,
   "id": "weighted-ribbon",
   "metadata": {},
   "outputs": [
    {
     "name": "stdout",
     "output_type": "stream",
     "text": [
      "Epoch 1/50\n",
      "1/1 [==============================] - 1s 705ms/step - loss: 0.7045 - val_loss: 0.6538\n",
      "Epoch 2/50\n",
      "1/1 [==============================] - 0s 133ms/step - loss: 0.6523 - val_loss: 0.6102\n",
      "Epoch 3/50\n",
      "1/1 [==============================] - 0s 122ms/step - loss: 0.6071 - val_loss: 0.5720\n",
      "Epoch 4/50\n",
      "1/1 [==============================] - 0s 127ms/step - loss: 0.5661 - val_loss: 0.5543\n",
      "Epoch 5/50\n",
      "1/1 [==============================] - 0s 114ms/step - loss: 0.5435 - val_loss: 0.5460\n",
      "Epoch 6/50\n",
      "1/1 [==============================] - 0s 131ms/step - loss: 0.5299 - val_loss: 0.5268\n",
      "Epoch 7/50\n",
      "1/1 [==============================] - 0s 118ms/step - loss: 0.5073 - val_loss: 0.5022\n",
      "Epoch 8/50\n",
      "1/1 [==============================] - 0s 130ms/step - loss: 0.4811 - val_loss: 0.4814\n",
      "Epoch 9/50\n",
      "1/1 [==============================] - 0s 117ms/step - loss: 0.4594 - val_loss: 0.4665\n",
      "Epoch 10/50\n",
      "1/1 [==============================] - 0s 130ms/step - loss: 0.4436 - val_loss: 0.4557\n",
      "Epoch 11/50\n",
      "1/1 [==============================] - 0s 116ms/step - loss: 0.4316 - val_loss: 0.4466\n",
      "Epoch 12/50\n",
      "1/1 [==============================] - 0s 132ms/step - loss: 0.4206 - val_loss: 0.4366\n",
      "Epoch 13/50\n",
      "1/1 [==============================] - 0s 113ms/step - loss: 0.4082 - val_loss: 0.4249\n",
      "Epoch 14/50\n",
      "1/1 [==============================] - 0s 126ms/step - loss: 0.3935 - val_loss: 0.4125\n",
      "Epoch 15/50\n",
      "1/1 [==============================] - 0s 116ms/step - loss: 0.3776 - val_loss: 0.4011\n",
      "Epoch 16/50\n",
      "1/1 [==============================] - 0s 123ms/step - loss: 0.3626 - val_loss: 0.3913\n",
      "Epoch 17/50\n",
      "1/1 [==============================] - 0s 113ms/step - loss: 0.3492 - val_loss: 0.3818\n",
      "Epoch 18/50\n",
      "1/1 [==============================] - 0s 125ms/step - loss: 0.3365 - val_loss: 0.3715\n",
      "Epoch 19/50\n",
      "1/1 [==============================] - 0s 115ms/step - loss: 0.3236 - val_loss: 0.3606\n",
      "Epoch 20/50\n",
      "1/1 [==============================] - 0s 127ms/step - loss: 0.3107 - val_loss: 0.3501\n",
      "Epoch 21/50\n",
      "1/1 [==============================] - 0s 124ms/step - loss: 0.2984 - val_loss: 0.3408\n",
      "Epoch 22/50\n",
      "1/1 [==============================] - 0s 148ms/step - loss: 0.2871 - val_loss: 0.3324\n",
      "Epoch 23/50\n",
      "1/1 [==============================] - 0s 129ms/step - loss: 0.2761 - val_loss: 0.3243\n",
      "Epoch 24/50\n",
      "1/1 [==============================] - 0s 114ms/step - loss: 0.2651 - val_loss: 0.3161\n",
      "Epoch 25/50\n",
      "1/1 [==============================] - 0s 130ms/step - loss: 0.2541 - val_loss: 0.3080\n",
      "Epoch 26/50\n",
      "1/1 [==============================] - 0s 122ms/step - loss: 0.2436 - val_loss: 0.3005\n",
      "Epoch 27/50\n",
      "1/1 [==============================] - 0s 137ms/step - loss: 0.2337 - val_loss: 0.2935\n",
      "Epoch 28/50\n",
      "1/1 [==============================] - 0s 125ms/step - loss: 0.2243 - val_loss: 0.2867\n",
      "Epoch 29/50\n",
      "1/1 [==============================] - 0s 139ms/step - loss: 0.2152 - val_loss: 0.2803\n",
      "Epoch 30/50\n",
      "1/1 [==============================] - 0s 150ms/step - loss: 0.2065 - val_loss: 0.2740\n",
      "Epoch 31/50\n",
      "1/1 [==============================] - 0s 132ms/step - loss: 0.1980 - val_loss: 0.2678\n",
      "Epoch 32/50\n",
      "1/1 [==============================] - 0s 128ms/step - loss: 0.1897 - val_loss: 0.2618\n",
      "Epoch 33/50\n",
      "1/1 [==============================] - 0s 124ms/step - loss: 0.1818 - val_loss: 0.2558\n",
      "Epoch 34/50\n",
      "1/1 [==============================] - 0s 130ms/step - loss: 0.1740 - val_loss: 0.2501\n",
      "Epoch 35/50\n",
      "1/1 [==============================] - 0s 131ms/step - loss: 0.1662 - val_loss: 0.2447\n",
      "Epoch 36/50\n",
      "1/1 [==============================] - 0s 131ms/step - loss: 0.1590 - val_loss: 0.2394\n",
      "Epoch 37/50\n",
      "1/1 [==============================] - 0s 173ms/step - loss: 0.1522 - val_loss: 0.2343\n",
      "Epoch 38/50\n",
      "1/1 [==============================] - 0s 180ms/step - loss: 0.1454 - val_loss: 0.2303\n",
      "Epoch 39/50\n",
      "1/1 [==============================] - 0s 143ms/step - loss: 0.1388 - val_loss: 0.2272\n",
      "Epoch 40/50\n",
      "1/1 [==============================] - 0s 129ms/step - loss: 0.1326 - val_loss: 0.2239\n",
      "Epoch 41/50\n",
      "1/1 [==============================] - 0s 134ms/step - loss: 0.1266 - val_loss: 0.2200\n",
      "Epoch 42/50\n",
      "1/1 [==============================] - 0s 125ms/step - loss: 0.1208 - val_loss: 0.2160\n",
      "Epoch 43/50\n",
      "1/1 [==============================] - 0s 140ms/step - loss: 0.1153 - val_loss: 0.2124\n",
      "Epoch 44/50\n",
      "1/1 [==============================] - 0s 130ms/step - loss: 0.1100 - val_loss: 0.2098\n",
      "Epoch 45/50\n",
      "1/1 [==============================] - 0s 117ms/step - loss: 0.1049 - val_loss: 0.2077\n",
      "Epoch 46/50\n",
      "1/1 [==============================] - 0s 139ms/step - loss: 0.1001 - val_loss: 0.2054\n",
      "Epoch 47/50\n",
      "1/1 [==============================] - 0s 130ms/step - loss: 0.0954 - val_loss: 0.2028\n",
      "Epoch 48/50\n",
      "1/1 [==============================] - 0s 146ms/step - loss: 0.0910 - val_loss: 0.2002\n",
      "Epoch 49/50\n",
      "1/1 [==============================] - 0s 135ms/step - loss: 0.0867 - val_loss: 0.1979\n",
      "Epoch 50/50\n",
      "1/1 [==============================] - 0s 136ms/step - loss: 0.0827 - val_loss: 0.1959\n"
     ]
    },
    {
     "data": {
      "text/plain": [
       "<tensorflow.python.keras.callbacks.History at 0x7fdacdf921c0>"
      ]
     },
     "execution_count": 45,
     "metadata": {},
     "output_type": "execute_result"
    }
   ],
   "source": [
    "autoencoder.fit(X_train, X_train,\n",
    "                epochs=50,\n",
    "                batch_size=256,\n",
    "                shuffle=True,\n",
    "                validation_data=(X_test, X_test))"
   ]
  },
  {
   "cell_type": "code",
   "execution_count": 46,
   "id": "packed-ivory",
   "metadata": {},
   "outputs": [],
   "source": [
    "# Encode and decode some digits\n",
    "# Note that we take them from the *test* set\n",
    "encoded_imgs = encoder.predict(X_test)\n",
    "decoded_imgs = decoder.predict(encoded_imgs)"
   ]
  },
  {
   "cell_type": "code",
   "execution_count": 48,
   "id": "cultural-oxygen",
   "metadata": {},
   "outputs": [
    {
     "data": {
      "image/png": "[encoded data removed]",
      "text/plain": [
       "<Figure size 720x288 with 14 Axes>"
      ]
     },
     "metadata": {
      "needs_background": "light"
     },
     "output_type": "display_data"
    }
   ],
   "source": [
    "def plotnums(n):\n",
    "    plt.figure(figsize=(10, 4))\n",
    "    for i in range(n):\n",
    "        \"\"\"\n",
    "        Takes in one integer n \n",
    "        Then plots the numbers showing the orginal and the encoded. \n",
    "        \"\"\"\n",
    "        \n",
    "        ax = plt.subplot(2, n, i + 1)\n",
    "        plt.imshow(X_test[i].reshape(16, 16))\n",
    "        plt.gray()\n",
    "        ax.get_xaxis().set_visible(False)\n",
    "        ax.get_yaxis().set_visible(False)\n",
    "        \n",
    "        \n",
    "        ax = plt.subplot(2, n, i + 1 + n)\n",
    "        plt.imshow(decoded_imgs[i].reshape(16, 16))\n",
    "        plt.gray()\n",
    "        ax.get_xaxis().set_visible(False)\n",
    "        ax.get_yaxis().set_visible(False)\n",
    "    plt.savefig(\"Autoencoder.png\")    \n",
    "    plt.show()\n",
    "    \n",
    "plotnums(7)    "
   ]
  },
  {
   "cell_type": "code",
   "execution_count": null,
   "id": "renewable-basis",
   "metadata": {},
   "outputs": [],
   "source": []
  }
 ],
 "metadata": {
  "kernelspec": {
   "display_name": "Python 3",
   "language": "python",
   "name": "python3"
  },
  "language_info": {
   "codemirror_mode": {
    "name": "ipython",
    "version": 3
   },
   "file_extension": ".py",
   "mimetype": "text/x-python",
   "name": "python",
   "nbconvert_exporter": "python",
   "pygments_lexer": "ipython3",
   "version": "3.8.5"
  }
 },
 "nbformat": 4,
 "nbformat_minor": 5
}
